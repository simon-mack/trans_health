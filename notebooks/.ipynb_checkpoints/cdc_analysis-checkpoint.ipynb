{
 "cells": [
  {
   "cell_type": "code",
   "execution_count": 1,
   "metadata": {},
   "outputs": [],
   "source": [
    "import pandas as pd\n",
    "import matplotlib.pyplot as plt\n",
    "import seaborn as sns\n",
    "import warnings\n",
    "warnings.filterwarnings('ignore')\n",
    "import numpy as np\n",
    "\n",
    "%matplotlib inline"
   ]
  },
  {
   "cell_type": "code",
   "execution_count": 2,
   "metadata": {},
   "outputs": [],
   "source": [
    "cdc = pd.read_csv('../data/cdc_clean.csv')"
   ]
  },
  {
   "cell_type": "code",
   "execution_count": 3,
   "metadata": {
    "scrolled": false
   },
   "outputs": [
    {
     "data": {
      "text/html": [
       "<div>\n",
       "<style scoped>\n",
       "    .dataframe tbody tr th:only-of-type {\n",
       "        vertical-align: middle;\n",
       "    }\n",
       "\n",
       "    .dataframe tbody tr th {\n",
       "        vertical-align: top;\n",
       "    }\n",
       "\n",
       "    .dataframe thead th {\n",
       "        text-align: right;\n",
       "    }\n",
       "</style>\n",
       "<table border=\"1\" class=\"dataframe\">\n",
       "  <thead>\n",
       "    <tr style=\"text-align: right;\">\n",
       "      <th></th>\n",
       "      <th>_STATE</th>\n",
       "      <th>_AGE_G</th>\n",
       "      <th>_SEX</th>\n",
       "      <th>BIRTHSEX</th>\n",
       "      <th>SOMALE</th>\n",
       "      <th>SOFEMALE</th>\n",
       "      <th>TRNSGNDR</th>\n",
       "      <th>PVTRESD3</th>\n",
       "      <th>MARITAL</th>\n",
       "      <th>_EDUCAG</th>\n",
       "      <th>...</th>\n",
       "      <th>poor_gen_health</th>\n",
       "      <th>poor_phys_health</th>\n",
       "      <th>poor_ment_health</th>\n",
       "      <th>persdoc</th>\n",
       "      <th>checkup</th>\n",
       "      <th>income</th>\n",
       "      <th>employment</th>\n",
       "      <th>education</th>\n",
       "      <th>gender</th>\n",
       "      <th>sexual orientation</th>\n",
       "    </tr>\n",
       "  </thead>\n",
       "  <tbody>\n",
       "    <tr>\n",
       "      <th>7347</th>\n",
       "      <td>Alaska</td>\n",
       "      <td>Age 45 to 54</td>\n",
       "      <td>Female</td>\n",
       "      <td>NaN</td>\n",
       "      <td>NaN</td>\n",
       "      <td>Straight</td>\n",
       "      <td>Yes, female to male</td>\n",
       "      <td>NaN</td>\n",
       "      <td>Married</td>\n",
       "      <td>Graduated from College or Technical School</td>\n",
       "      <td>...</td>\n",
       "      <td>No</td>\n",
       "      <td>No</td>\n",
       "      <td>No</td>\n",
       "      <td>One or more</td>\n",
       "      <td>Within past year</td>\n",
       "      <td>$35,000 or more</td>\n",
       "      <td>Employed</td>\n",
       "      <td>Post-secondary Education</td>\n",
       "      <td>Male</td>\n",
       "      <td>Straight</td>\n",
       "    </tr>\n",
       "    <tr>\n",
       "      <th>7635</th>\n",
       "      <td>Alaska</td>\n",
       "      <td>Age 35 to 44</td>\n",
       "      <td>Male</td>\n",
       "      <td>NaN</td>\n",
       "      <td>Straight</td>\n",
       "      <td>NaN</td>\n",
       "      <td>Yes, male to female</td>\n",
       "      <td>NaN</td>\n",
       "      <td>Never Married</td>\n",
       "      <td>Graduated High School</td>\n",
       "      <td>...</td>\n",
       "      <td>No</td>\n",
       "      <td>No</td>\n",
       "      <td>Yes</td>\n",
       "      <td>One or more</td>\n",
       "      <td>Within past year</td>\n",
       "      <td>Less than $35,000</td>\n",
       "      <td>Unemployed</td>\n",
       "      <td>No post-secondary education</td>\n",
       "      <td>Female</td>\n",
       "      <td>Straight</td>\n",
       "    </tr>\n",
       "    <tr>\n",
       "      <th>7709</th>\n",
       "      <td>Alaska</td>\n",
       "      <td>Age 65 and older</td>\n",
       "      <td>Male</td>\n",
       "      <td>NaN</td>\n",
       "      <td>Gay</td>\n",
       "      <td>NaN</td>\n",
       "      <td>Yes, male to female</td>\n",
       "      <td>NaN</td>\n",
       "      <td>Separated</td>\n",
       "      <td>Did not graduate High School</td>\n",
       "      <td>...</td>\n",
       "      <td>No</td>\n",
       "      <td>No</td>\n",
       "      <td>No</td>\n",
       "      <td>One or more</td>\n",
       "      <td>Within past year</td>\n",
       "      <td>$35,000 or more</td>\n",
       "      <td>NaN</td>\n",
       "      <td>No post-secondary education</td>\n",
       "      <td>Female</td>\n",
       "      <td>Gay</td>\n",
       "    </tr>\n",
       "    <tr>\n",
       "      <th>7993</th>\n",
       "      <td>Alaska</td>\n",
       "      <td>Age 35 to 44</td>\n",
       "      <td>Male</td>\n",
       "      <td>NaN</td>\n",
       "      <td>Straight</td>\n",
       "      <td>NaN</td>\n",
       "      <td>Yes, male to female</td>\n",
       "      <td>NaN</td>\n",
       "      <td>Married</td>\n",
       "      <td>Graduated High School</td>\n",
       "      <td>...</td>\n",
       "      <td>No</td>\n",
       "      <td>No</td>\n",
       "      <td>No</td>\n",
       "      <td>One or more</td>\n",
       "      <td>Within past year</td>\n",
       "      <td>$35,000 or more</td>\n",
       "      <td>Employed</td>\n",
       "      <td>No post-secondary education</td>\n",
       "      <td>Female</td>\n",
       "      <td>Straight</td>\n",
       "    </tr>\n",
       "    <tr>\n",
       "      <th>8102</th>\n",
       "      <td>Alaska</td>\n",
       "      <td>Age 65 and older</td>\n",
       "      <td>Male</td>\n",
       "      <td>NaN</td>\n",
       "      <td>Something Else</td>\n",
       "      <td>NaN</td>\n",
       "      <td>Yes, gender nonconforming</td>\n",
       "      <td>NaN</td>\n",
       "      <td>Divorced</td>\n",
       "      <td>Graduated from College or Technical School</td>\n",
       "      <td>...</td>\n",
       "      <td>No</td>\n",
       "      <td>No</td>\n",
       "      <td>No</td>\n",
       "      <td>One or more</td>\n",
       "      <td>Within past year</td>\n",
       "      <td>$35,000 or more</td>\n",
       "      <td>NaN</td>\n",
       "      <td>Post-secondary Education</td>\n",
       "      <td>Gender nonconforming</td>\n",
       "      <td>NaN</td>\n",
       "    </tr>\n",
       "  </tbody>\n",
       "</table>\n",
       "<p>5 rows × 38 columns</p>\n",
       "</div>"
      ],
      "text/plain": [
       "      _STATE            _AGE_G    _SEX BIRTHSEX          SOMALE  SOFEMALE  \\\n",
       "7347  Alaska      Age 45 to 54  Female      NaN             NaN  Straight   \n",
       "7635  Alaska      Age 35 to 44    Male      NaN        Straight       NaN   \n",
       "7709  Alaska  Age 65 and older    Male      NaN             Gay       NaN   \n",
       "7993  Alaska      Age 35 to 44    Male      NaN        Straight       NaN   \n",
       "8102  Alaska  Age 65 and older    Male      NaN  Something Else       NaN   \n",
       "\n",
       "                       TRNSGNDR PVTRESD3        MARITAL  \\\n",
       "7347        Yes, female to male      NaN        Married   \n",
       "7635        Yes, male to female      NaN  Never Married   \n",
       "7709        Yes, male to female      NaN      Separated   \n",
       "7993        Yes, male to female      NaN        Married   \n",
       "8102  Yes, gender nonconforming      NaN       Divorced   \n",
       "\n",
       "                                         _EDUCAG  ... poor_gen_health  \\\n",
       "7347  Graduated from College or Technical School  ...              No   \n",
       "7635                       Graduated High School  ...              No   \n",
       "7709                Did not graduate High School  ...              No   \n",
       "7993                       Graduated High School  ...              No   \n",
       "8102  Graduated from College or Technical School  ...              No   \n",
       "\n",
       "     poor_phys_health poor_ment_health      persdoc           checkup  \\\n",
       "7347               No               No  One or more  Within past year   \n",
       "7635               No              Yes  One or more  Within past year   \n",
       "7709               No               No  One or more  Within past year   \n",
       "7993               No               No  One or more  Within past year   \n",
       "8102               No               No  One or more  Within past year   \n",
       "\n",
       "                 income  employment                    education  \\\n",
       "7347    $35,000 or more    Employed     Post-secondary Education   \n",
       "7635  Less than $35,000  Unemployed  No post-secondary education   \n",
       "7709    $35,000 or more         NaN  No post-secondary education   \n",
       "7993    $35,000 or more    Employed  No post-secondary education   \n",
       "8102    $35,000 or more         NaN     Post-secondary Education   \n",
       "\n",
       "                    gender sexual orientation  \n",
       "7347                  Male           Straight  \n",
       "7635                Female           Straight  \n",
       "7709                Female                Gay  \n",
       "7993                Female           Straight  \n",
       "8102  Gender nonconforming                NaN  \n",
       "\n",
       "[5 rows x 38 columns]"
      ]
     },
     "execution_count": 3,
     "metadata": {},
     "output_type": "execute_result"
    }
   ],
   "source": [
    "cdc_trans = cdc.loc[cdc.trans.isin(['Transgender'])]\n",
    "cdc_cis = cdc.loc[cdc.trans.isin(['Cisgender'])]\n",
    "cdc_trans.head()"
   ]
  },
  {
   "cell_type": "code",
   "execution_count": 4,
   "metadata": {},
   "outputs": [
    {
     "data": {
      "text/html": [
       "<div>\n",
       "<style scoped>\n",
       "    .dataframe tbody tr th:only-of-type {\n",
       "        vertical-align: middle;\n",
       "    }\n",
       "\n",
       "    .dataframe tbody tr th {\n",
       "        vertical-align: top;\n",
       "    }\n",
       "\n",
       "    .dataframe thead th {\n",
       "        text-align: right;\n",
       "    }\n",
       "</style>\n",
       "<table border=\"1\" class=\"dataframe\">\n",
       "  <thead>\n",
       "    <tr style=\"text-align: right;\">\n",
       "      <th></th>\n",
       "      <th>_STATE</th>\n",
       "      <th>_AGE_G</th>\n",
       "      <th>_SEX</th>\n",
       "      <th>BIRTHSEX</th>\n",
       "      <th>SOMALE</th>\n",
       "      <th>SOFEMALE</th>\n",
       "      <th>TRNSGNDR</th>\n",
       "      <th>PVTRESD3</th>\n",
       "      <th>MARITAL</th>\n",
       "      <th>_EDUCAG</th>\n",
       "      <th>...</th>\n",
       "      <th>poor_gen_health</th>\n",
       "      <th>poor_phys_health</th>\n",
       "      <th>poor_ment_health</th>\n",
       "      <th>persdoc</th>\n",
       "      <th>checkup</th>\n",
       "      <th>income</th>\n",
       "      <th>employment</th>\n",
       "      <th>education</th>\n",
       "      <th>gender</th>\n",
       "      <th>sexual orientation</th>\n",
       "    </tr>\n",
       "  </thead>\n",
       "  <tbody>\n",
       "    <tr>\n",
       "      <th>86175</th>\n",
       "      <td>Hawaii</td>\n",
       "      <td>Age 55 to 64</td>\n",
       "      <td>Female</td>\n",
       "      <td>Female</td>\n",
       "      <td>NaN</td>\n",
       "      <td>Straight</td>\n",
       "      <td>Yes, female to male</td>\n",
       "      <td>NaN</td>\n",
       "      <td>Married</td>\n",
       "      <td>Graduated from College or Technical School</td>\n",
       "      <td>...</td>\n",
       "      <td>No</td>\n",
       "      <td>No</td>\n",
       "      <td>No</td>\n",
       "      <td>One or more</td>\n",
       "      <td>Within past year</td>\n",
       "      <td>$35,000 or more</td>\n",
       "      <td>Employed</td>\n",
       "      <td>Post-secondary Education</td>\n",
       "      <td>Male</td>\n",
       "      <td>Straight</td>\n",
       "    </tr>\n",
       "    <tr>\n",
       "      <th>86485</th>\n",
       "      <td>Hawaii</td>\n",
       "      <td>Age 65 and older</td>\n",
       "      <td>Male</td>\n",
       "      <td>Male</td>\n",
       "      <td>Gay</td>\n",
       "      <td>NaN</td>\n",
       "      <td>Yes, female to male</td>\n",
       "      <td>NaN</td>\n",
       "      <td>Divorced</td>\n",
       "      <td>Attended College or Technical School</td>\n",
       "      <td>...</td>\n",
       "      <td>No</td>\n",
       "      <td>No</td>\n",
       "      <td>No</td>\n",
       "      <td>One or more</td>\n",
       "      <td>Within past year</td>\n",
       "      <td>Less than $35,000</td>\n",
       "      <td>NaN</td>\n",
       "      <td>Post-secondary Education</td>\n",
       "      <td>Male</td>\n",
       "      <td>Gay</td>\n",
       "    </tr>\n",
       "    <tr>\n",
       "      <th>86799</th>\n",
       "      <td>Hawaii</td>\n",
       "      <td>Age 55 to 64</td>\n",
       "      <td>Male</td>\n",
       "      <td>Male</td>\n",
       "      <td>Gay</td>\n",
       "      <td>NaN</td>\n",
       "      <td>Yes, male to female</td>\n",
       "      <td>NaN</td>\n",
       "      <td>Never Married</td>\n",
       "      <td>Graduated High School</td>\n",
       "      <td>...</td>\n",
       "      <td>Yes</td>\n",
       "      <td>Yes</td>\n",
       "      <td>No</td>\n",
       "      <td>NaN</td>\n",
       "      <td>Within past year</td>\n",
       "      <td>Less than $35,000</td>\n",
       "      <td>NaN</td>\n",
       "      <td>No post-secondary education</td>\n",
       "      <td>Female</td>\n",
       "      <td>Gay</td>\n",
       "    </tr>\n",
       "    <tr>\n",
       "      <th>86912</th>\n",
       "      <td>Hawaii</td>\n",
       "      <td>Age 65 and older</td>\n",
       "      <td>Female</td>\n",
       "      <td>Female</td>\n",
       "      <td>NaN</td>\n",
       "      <td>Straight</td>\n",
       "      <td>Yes, female to male</td>\n",
       "      <td>NaN</td>\n",
       "      <td>Widowed</td>\n",
       "      <td>Attended College or Technical School</td>\n",
       "      <td>...</td>\n",
       "      <td>No</td>\n",
       "      <td>No</td>\n",
       "      <td>No</td>\n",
       "      <td>One or more</td>\n",
       "      <td>Within past year</td>\n",
       "      <td>Less than $35,000</td>\n",
       "      <td>NaN</td>\n",
       "      <td>Post-secondary Education</td>\n",
       "      <td>Male</td>\n",
       "      <td>Straight</td>\n",
       "    </tr>\n",
       "    <tr>\n",
       "      <th>86921</th>\n",
       "      <td>Hawaii</td>\n",
       "      <td>Age 65 and older</td>\n",
       "      <td>Female</td>\n",
       "      <td>Female</td>\n",
       "      <td>NaN</td>\n",
       "      <td>Straight</td>\n",
       "      <td>Yes, female to male</td>\n",
       "      <td>NaN</td>\n",
       "      <td>Widowed</td>\n",
       "      <td>Graduated from College or Technical School</td>\n",
       "      <td>...</td>\n",
       "      <td>No</td>\n",
       "      <td>No</td>\n",
       "      <td>No</td>\n",
       "      <td>One or more</td>\n",
       "      <td>Within past year</td>\n",
       "      <td>NaN</td>\n",
       "      <td>NaN</td>\n",
       "      <td>Post-secondary Education</td>\n",
       "      <td>Male</td>\n",
       "      <td>Straight</td>\n",
       "    </tr>\n",
       "    <tr>\n",
       "      <th>...</th>\n",
       "      <td>...</td>\n",
       "      <td>...</td>\n",
       "      <td>...</td>\n",
       "      <td>...</td>\n",
       "      <td>...</td>\n",
       "      <td>...</td>\n",
       "      <td>...</td>\n",
       "      <td>...</td>\n",
       "      <td>...</td>\n",
       "      <td>...</td>\n",
       "      <td>...</td>\n",
       "      <td>...</td>\n",
       "      <td>...</td>\n",
       "      <td>...</td>\n",
       "      <td>...</td>\n",
       "      <td>...</td>\n",
       "      <td>...</td>\n",
       "      <td>...</td>\n",
       "      <td>...</td>\n",
       "      <td>...</td>\n",
       "      <td>...</td>\n",
       "    </tr>\n",
       "    <tr>\n",
       "      <th>371179</th>\n",
       "      <td>Vermont</td>\n",
       "      <td>Age 25 to 34</td>\n",
       "      <td>Female</td>\n",
       "      <td>Female</td>\n",
       "      <td>NaN</td>\n",
       "      <td>Something Else</td>\n",
       "      <td>Yes, gender nonconforming</td>\n",
       "      <td>Yes</td>\n",
       "      <td>Never Married</td>\n",
       "      <td>Graduated High School</td>\n",
       "      <td>...</td>\n",
       "      <td>No</td>\n",
       "      <td>No</td>\n",
       "      <td>No</td>\n",
       "      <td>One or more</td>\n",
       "      <td>Within past year</td>\n",
       "      <td>Less than $35,000</td>\n",
       "      <td>NaN</td>\n",
       "      <td>No post-secondary education</td>\n",
       "      <td>Gender nonconforming</td>\n",
       "      <td>NaN</td>\n",
       "    </tr>\n",
       "    <tr>\n",
       "      <th>371243</th>\n",
       "      <td>Vermont</td>\n",
       "      <td>Age 45 to 54</td>\n",
       "      <td>Male</td>\n",
       "      <td>Male</td>\n",
       "      <td>Bisexual</td>\n",
       "      <td>NaN</td>\n",
       "      <td>Yes, gender nonconforming</td>\n",
       "      <td>Yes</td>\n",
       "      <td>Never Married</td>\n",
       "      <td>Attended College or Technical School</td>\n",
       "      <td>...</td>\n",
       "      <td>No</td>\n",
       "      <td>No</td>\n",
       "      <td>Yes</td>\n",
       "      <td>One or more</td>\n",
       "      <td>Within past year</td>\n",
       "      <td>$35,000 or more</td>\n",
       "      <td>NaN</td>\n",
       "      <td>Post-secondary Education</td>\n",
       "      <td>Gender nonconforming</td>\n",
       "      <td>Bisexual</td>\n",
       "    </tr>\n",
       "    <tr>\n",
       "      <th>371466</th>\n",
       "      <td>Vermont</td>\n",
       "      <td>Age 65 and older</td>\n",
       "      <td>Male</td>\n",
       "      <td>Male</td>\n",
       "      <td>Straight</td>\n",
       "      <td>NaN</td>\n",
       "      <td>Yes, male to female</td>\n",
       "      <td>Yes</td>\n",
       "      <td>Widowed</td>\n",
       "      <td>Graduated from College or Technical School</td>\n",
       "      <td>...</td>\n",
       "      <td>No</td>\n",
       "      <td>No</td>\n",
       "      <td>No</td>\n",
       "      <td>One or more</td>\n",
       "      <td>Within past year</td>\n",
       "      <td>Less than $35,000</td>\n",
       "      <td>Employed</td>\n",
       "      <td>Post-secondary Education</td>\n",
       "      <td>Female</td>\n",
       "      <td>Straight</td>\n",
       "    </tr>\n",
       "    <tr>\n",
       "      <th>371653</th>\n",
       "      <td>Vermont</td>\n",
       "      <td>Age 65 and older</td>\n",
       "      <td>Male</td>\n",
       "      <td>Male</td>\n",
       "      <td>Something Else</td>\n",
       "      <td>NaN</td>\n",
       "      <td>Yes, male to female</td>\n",
       "      <td>Yes</td>\n",
       "      <td>Divorced</td>\n",
       "      <td>Attended College or Technical School</td>\n",
       "      <td>...</td>\n",
       "      <td>Yes</td>\n",
       "      <td>Yes</td>\n",
       "      <td>Yes</td>\n",
       "      <td>NaN</td>\n",
       "      <td>Within past year</td>\n",
       "      <td>NaN</td>\n",
       "      <td>NaN</td>\n",
       "      <td>Post-secondary Education</td>\n",
       "      <td>Female</td>\n",
       "      <td>NaN</td>\n",
       "    </tr>\n",
       "    <tr>\n",
       "      <th>371655</th>\n",
       "      <td>Vermont</td>\n",
       "      <td>Age 18 to 24</td>\n",
       "      <td>Male</td>\n",
       "      <td>Male</td>\n",
       "      <td>Bisexual</td>\n",
       "      <td>NaN</td>\n",
       "      <td>Yes, male to female</td>\n",
       "      <td>Yes</td>\n",
       "      <td>A member of an unmarried couple</td>\n",
       "      <td>Graduated from College or Technical School</td>\n",
       "      <td>...</td>\n",
       "      <td>No</td>\n",
       "      <td>No</td>\n",
       "      <td>Yes</td>\n",
       "      <td>None</td>\n",
       "      <td>Within past year</td>\n",
       "      <td>$35,000 or more</td>\n",
       "      <td>Employed</td>\n",
       "      <td>Post-secondary Education</td>\n",
       "      <td>Female</td>\n",
       "      <td>Bisexual</td>\n",
       "    </tr>\n",
       "  </tbody>\n",
       "</table>\n",
       "<p>250 rows × 38 columns</p>\n",
       "</div>"
      ],
      "text/plain": [
       "         _STATE            _AGE_G    _SEX BIRTHSEX          SOMALE  \\\n",
       "86175    Hawaii      Age 55 to 64  Female   Female             NaN   \n",
       "86485    Hawaii  Age 65 and older    Male     Male             Gay   \n",
       "86799    Hawaii      Age 55 to 64    Male     Male             Gay   \n",
       "86912    Hawaii  Age 65 and older  Female   Female             NaN   \n",
       "86921    Hawaii  Age 65 and older  Female   Female             NaN   \n",
       "...         ...               ...     ...      ...             ...   \n",
       "371179  Vermont      Age 25 to 34  Female   Female             NaN   \n",
       "371243  Vermont      Age 45 to 54    Male     Male        Bisexual   \n",
       "371466  Vermont  Age 65 and older    Male     Male        Straight   \n",
       "371653  Vermont  Age 65 and older    Male     Male  Something Else   \n",
       "371655  Vermont      Age 18 to 24    Male     Male        Bisexual   \n",
       "\n",
       "              SOFEMALE                   TRNSGNDR PVTRESD3  \\\n",
       "86175         Straight        Yes, female to male      NaN   \n",
       "86485              NaN        Yes, female to male      NaN   \n",
       "86799              NaN        Yes, male to female      NaN   \n",
       "86912         Straight        Yes, female to male      NaN   \n",
       "86921         Straight        Yes, female to male      NaN   \n",
       "...                ...                        ...      ...   \n",
       "371179  Something Else  Yes, gender nonconforming      Yes   \n",
       "371243             NaN  Yes, gender nonconforming      Yes   \n",
       "371466             NaN        Yes, male to female      Yes   \n",
       "371653             NaN        Yes, male to female      Yes   \n",
       "371655             NaN        Yes, male to female      Yes   \n",
       "\n",
       "                                MARITAL  \\\n",
       "86175                           Married   \n",
       "86485                          Divorced   \n",
       "86799                     Never Married   \n",
       "86912                           Widowed   \n",
       "86921                           Widowed   \n",
       "...                                 ...   \n",
       "371179                    Never Married   \n",
       "371243                    Never Married   \n",
       "371466                          Widowed   \n",
       "371653                         Divorced   \n",
       "371655  A member of an unmarried couple   \n",
       "\n",
       "                                           _EDUCAG  ... poor_gen_health  \\\n",
       "86175   Graduated from College or Technical School  ...              No   \n",
       "86485         Attended College or Technical School  ...              No   \n",
       "86799                        Graduated High School  ...             Yes   \n",
       "86912         Attended College or Technical School  ...              No   \n",
       "86921   Graduated from College or Technical School  ...              No   \n",
       "...                                            ...  ...             ...   \n",
       "371179                       Graduated High School  ...              No   \n",
       "371243        Attended College or Technical School  ...              No   \n",
       "371466  Graduated from College or Technical School  ...              No   \n",
       "371653        Attended College or Technical School  ...             Yes   \n",
       "371655  Graduated from College or Technical School  ...              No   \n",
       "\n",
       "       poor_phys_health poor_ment_health      persdoc           checkup  \\\n",
       "86175                No               No  One or more  Within past year   \n",
       "86485                No               No  One or more  Within past year   \n",
       "86799               Yes               No          NaN  Within past year   \n",
       "86912                No               No  One or more  Within past year   \n",
       "86921                No               No  One or more  Within past year   \n",
       "...                 ...              ...          ...               ...   \n",
       "371179               No               No  One or more  Within past year   \n",
       "371243               No              Yes  One or more  Within past year   \n",
       "371466               No               No  One or more  Within past year   \n",
       "371653              Yes              Yes          NaN  Within past year   \n",
       "371655               No              Yes         None  Within past year   \n",
       "\n",
       "                   income employment                    education  \\\n",
       "86175     $35,000 or more   Employed     Post-secondary Education   \n",
       "86485   Less than $35,000        NaN     Post-secondary Education   \n",
       "86799   Less than $35,000        NaN  No post-secondary education   \n",
       "86912   Less than $35,000        NaN     Post-secondary Education   \n",
       "86921                 NaN        NaN     Post-secondary Education   \n",
       "...                   ...        ...                          ...   \n",
       "371179  Less than $35,000        NaN  No post-secondary education   \n",
       "371243    $35,000 or more        NaN     Post-secondary Education   \n",
       "371466  Less than $35,000   Employed     Post-secondary Education   \n",
       "371653                NaN        NaN     Post-secondary Education   \n",
       "371655    $35,000 or more   Employed     Post-secondary Education   \n",
       "\n",
       "                      gender sexual orientation  \n",
       "86175                   Male           Straight  \n",
       "86485                   Male                Gay  \n",
       "86799                 Female                Gay  \n",
       "86912                   Male           Straight  \n",
       "86921                   Male           Straight  \n",
       "...                      ...                ...  \n",
       "371179  Gender nonconforming                NaN  \n",
       "371243  Gender nonconforming           Bisexual  \n",
       "371466                Female           Straight  \n",
       "371653                Female                NaN  \n",
       "371655                Female           Bisexual  \n",
       "\n",
       "[250 rows x 38 columns]"
      ]
     },
     "execution_count": 4,
     "metadata": {},
     "output_type": "execute_result"
    }
   ],
   "source": [
    "cdc_trans.loc[cdc.BIRTHSEX.notnull()]"
   ]
  },
  {
   "cell_type": "markdown",
   "metadata": {},
   "source": [
    "## 1. What regions have the greatest health disparities between transgender and cisgender people?"
   ]
  },
  {
   "cell_type": "markdown",
   "metadata": {},
   "source": [
    "### National Health"
   ]
  },
  {
   "cell_type": "code",
   "execution_count": 5,
   "metadata": {},
   "outputs": [],
   "source": [
    "trans_poor_health = 0\n",
    "total_trans = 0\n",
    "cis_poor_health = 0\n",
    "total_cis = 0"
   ]
  },
  {
   "cell_type": "code",
   "execution_count": 6,
   "metadata": {},
   "outputs": [
    {
     "name": "stdout",
     "output_type": "stream",
     "text": [
      "Percent of Trans People with Poor General Health: 9.01%\n",
      "Percent of Cis People with Poor General Health: 5.23%\n"
     ]
    }
   ],
   "source": [
    "for ind,row in cdc.iterrows():\n",
    "    if row.trans == 'Transgender' and row.GENHLTH == 'Poor':\n",
    "        total_trans += 1\n",
    "        trans_poor_health += 1\n",
    "    elif row.trans == 'Transgender':\n",
    "        total_trans += 1\n",
    "    elif row.trans == 'Cisgender' and row.GENHLTH == 'Poor':\n",
    "        total_cis += 1\n",
    "        cis_poor_health += 1\n",
    "    elif row.trans == 'Cisgender':\n",
    "        total_cis += 1\n",
    "print(str.format('Percent of Trans People with Poor General Health: {}%', round((trans_poor_health/total_trans)*100,2)))\n",
    "print(str.format('Percent of Cis People with Poor General Health: {}%', round((cis_poor_health/total_cis)*100,2)))"
   ]
  },
  {
   "cell_type": "code",
   "execution_count": 7,
   "metadata": {},
   "outputs": [],
   "source": [
    "trans_14 = 0\n",
    "total_trans = 0\n",
    "cis_14 = 0\n",
    "total_cis = 0"
   ]
  },
  {
   "cell_type": "code",
   "execution_count": 8,
   "metadata": {},
   "outputs": [
    {
     "name": "stdout",
     "output_type": "stream",
     "text": [
      "Percent of Trans People with 14+ days in the last month when physical health not good: 19.48%\n",
      "Percent of Cis People with 14+ days in the last month when physical health not good: 13.76%\n"
     ]
    }
   ],
   "source": [
    "for ind,row in cdc.iterrows():\n",
    "    if row.trans == 'Transgender' and row._PHYS14D != '14+ days when physical health not good':\n",
    "        total_trans += 1\n",
    "    elif row.trans == 'Transgender' and row._PHYS14D == '14+ days when physical health not good':\n",
    "        total_trans += 1\n",
    "        trans_14 += 1\n",
    "    elif row.trans == 'Cisgender' and row._PHYS14D != '14+ days when physical health not good':\n",
    "        total_cis += 1\n",
    "    elif row.trans == 'Cisgender' and row._PHYS14D == '14+ days when physical health not good':\n",
    "        total_cis += 1\n",
    "        cis_14 += 1\n",
    "\n",
    "print(str.format('Percent of Trans People with 14+ days in the last month when physical health not good: {}%', round((trans_14/total_trans)*100,2)))\n",
    "print(str.format('Percent of Cis People with 14+ days in the last month when physical health not good: {}%',round((cis_14/total_cis)*100,2)))"
   ]
  },
  {
   "cell_type": "code",
   "execution_count": 9,
   "metadata": {},
   "outputs": [],
   "source": [
    "trans_14 = 0\n",
    "total_trans = 0\n",
    "cis_14 = 0\n",
    "total_cis = 0"
   ]
  },
  {
   "cell_type": "code",
   "execution_count": 10,
   "metadata": {},
   "outputs": [
    {
     "name": "stdout",
     "output_type": "stream",
     "text": [
      "Percent of Trans People with 14+ days in the last month when mental health not good: 29.11%\n",
      "Percent of Cis People with 14+ days in the last month when mental health not good: 11.73%\n"
     ]
    }
   ],
   "source": [
    "for ind,row in cdc.iterrows():\n",
    "    if row.trans == 'Transgender' and row._MENT14D != '14+ days when mental health not good':\n",
    "        total_trans += 1\n",
    "    elif row.trans == 'Transgender' and row._MENT14D == '14+ days when mental health not good':\n",
    "        total_trans += 1\n",
    "        trans_14 += 1\n",
    "    elif row.trans == 'Cisgender' and row._MENT14D != '14+ days when mental health not good':\n",
    "        total_cis += 1\n",
    "    elif row.trans == 'Cisgender' and row._MENT14D == '14+ days when mental health not good':\n",
    "        total_cis += 1\n",
    "        cis_14 += 1\n",
    "\n",
    "print(str.format('Percent of Trans People with 14+ days in the last month when mental health not good: {}%', round((trans_14/total_trans)*100,2)))\n",
    "print(str.format('Percent of Cis People with 14+ days in the last month when mental health not good: {}%',round((cis_14/total_cis)*100,2)))"
   ]
  },
  {
   "cell_type": "code",
   "execution_count": 11,
   "metadata": {
    "scrolled": false
   },
   "outputs": [
    {
     "data": {
      "text/plain": [
       "array(['White only, non-Hispanic',\n",
       "       'American Indian or Alaskan Native only, Non-Hispanic', 'Hispanic',\n",
       "       'Black only, non-Hispanic', 'Multiracial, non-Hispanic',\n",
       "       'Other race only, non-Hispanic', 'Asian only, non-Hispanic',\n",
       "       'Don’t know/Not sure/Refused',\n",
       "       'Native Hawaiian or other Pacific Islander only, Non-Hispanic'],\n",
       "      dtype=object)"
      ]
     },
     "execution_count": 11,
     "metadata": {},
     "output_type": "execute_result"
    }
   ],
   "source": [
    "cdc_trans._RACE.unique()"
   ]
  },
  {
   "cell_type": "code",
   "execution_count": 12,
   "metadata": {},
   "outputs": [],
   "source": [
    "cdc_black_trans = cdc_trans.loc[cdc_trans._RACE.isin(['Black only, non-Hispanic'])]"
   ]
  },
  {
   "cell_type": "code",
   "execution_count": 13,
   "metadata": {},
   "outputs": [
    {
     "data": {
      "text/plain": [
       "(82, 38)"
      ]
     },
     "execution_count": 13,
     "metadata": {},
     "output_type": "execute_result"
    }
   ],
   "source": [
    "cdc_black_trans.shape"
   ]
  },
  {
   "cell_type": "code",
   "execution_count": 14,
   "metadata": {},
   "outputs": [
    {
     "name": "stdout",
     "output_type": "stream",
     "text": [
      "Percent of Trans People with 14+ days in the last month when mental health not good: 20.73%\n"
     ]
    }
   ],
   "source": [
    "trans_14 = 0\n",
    "total_trans = 0\n",
    "cis_14 = 0\n",
    "total_cis = 0\n",
    "\n",
    "for ind,row in cdc_black_trans.iterrows():\n",
    "    if row._MENT14D != '14+ days when mental health not good':\n",
    "        total_trans += 1\n",
    "    elif row._MENT14D == '14+ days when mental health not good':\n",
    "        total_trans += 1\n",
    "        trans_14 += 1\n",
    "\n",
    "print(str.format('Percent of Trans People with 14+ days in the last month when mental health not good: {}%', round((trans_14/total_trans)*100,2)))"
   ]
  },
  {
   "cell_type": "markdown",
   "metadata": {},
   "source": [
    "### Health State Breakdown"
   ]
  },
  {
   "cell_type": "code",
   "execution_count": 15,
   "metadata": {},
   "outputs": [],
   "source": [
    "# states = list(cdc_trans._STATE.unique())"
   ]
  },
  {
   "cell_type": "code",
   "execution_count": 16,
   "metadata": {},
   "outputs": [],
   "source": [
    "# dict_states = []\n",
    "# pct_trans_poor_fair = []\n",
    "# pct_cis_poor_fair = []"
   ]
  },
  {
   "cell_type": "code",
   "execution_count": 17,
   "metadata": {},
   "outputs": [],
   "source": [
    "# for item in states:\n",
    "#     trans_poor_fair_health = 0\n",
    "#     total_trans = 0\n",
    "#     cis_poor_fair_health = 0\n",
    "#     total_cis = 0\n",
    "#     dict_state = item\n",
    "#     state_df = cdc.loc[cdc._STATE == item]\n",
    "    \n",
    "#     for ind,row in state_df.iterrows():\n",
    "#         if row.trans == 'Yes' and (row._RFHLTH == 'Good or Better Health' or row._RFHLTH == np.nan):\n",
    "#             total_trans += 1\n",
    "#         elif row.trans == 'Yes' and row._RFHLTH == 'Fair or Poor Health':\n",
    "#             total_trans += 1\n",
    "#             trans_poor_fair_health += 1\n",
    "#         elif row.trans == 'No' and (row._RFHLTH == 'Good or Better Health' or row._RFHLTH == np.nan):\n",
    "#             total_cis += 1\n",
    "#         elif row.trans == 'No' and row._RFHLTH == 'Fair or Poor Health':\n",
    "#             total_cis += 1\n",
    "#             cis_poor_fair_health += 1\n",
    "\n",
    "#     dict_states.append(dict_state)\n",
    "#     pct_trans_poor_fair.append(round((trans_poor_fair_health/total_trans)*100,2))\n",
    "#     pct_cis_poor_fair.append(round((cis_poor_fair_health/total_cis)*100,2))"
   ]
  },
  {
   "cell_type": "code",
   "execution_count": 18,
   "metadata": {},
   "outputs": [],
   "source": [
    "# state_breakdown = pd.DataFrame({'state':states, 'pct_trans_poor_fair':pct_trans_poor_fair,\n",
    "#                                 'pct_cis_poor_fair':pct_cis_poor_fair})\n",
    "# state_breakdown.head()"
   ]
  },
  {
   "cell_type": "code",
   "execution_count": 19,
   "metadata": {
    "scrolled": true
   },
   "outputs": [],
   "source": [
    "# state_breakdown.sort_values('pct_trans_poor_fair', ascending=False)"
   ]
  },
  {
   "cell_type": "code",
   "execution_count": 20,
   "metadata": {},
   "outputs": [],
   "source": [
    "# state_breakdown['diff'] = state_breakdown.pct_trans_poor_fair - state_breakdown.pct_cis_poor_fair"
   ]
  },
  {
   "cell_type": "code",
   "execution_count": 21,
   "metadata": {},
   "outputs": [],
   "source": [
    "# state_breakdown.sort_values('diff',ascending=False)"
   ]
  },
  {
   "cell_type": "code",
   "execution_count": 22,
   "metadata": {},
   "outputs": [],
   "source": [
    "# cdc_trans._STATE.value_counts()"
   ]
  },
  {
   "cell_type": "markdown",
   "metadata": {},
   "source": [
    "### Health Region Breakdown"
   ]
  },
  {
   "cell_type": "markdown",
   "metadata": {},
   "source": [
    "#### General Health"
   ]
  },
  {
   "cell_type": "code",
   "execution_count": 23,
   "metadata": {},
   "outputs": [],
   "source": [
    "regions = list(cdc_trans.region.unique())"
   ]
  },
  {
   "cell_type": "code",
   "execution_count": 24,
   "metadata": {},
   "outputs": [],
   "source": [
    "pct_trans_poor_reg = []\n",
    "pct_cis_poor_reg = []"
   ]
  },
  {
   "cell_type": "code",
   "execution_count": null,
   "metadata": {},
   "outputs": [],
   "source": [
    "for item in regions:\n",
    "    trans_poor_health = 0\n",
    "    total_trans = 0\n",
    "    cis_poor_health = 0\n",
    "    total_cis = 0\n",
    "    region_df = cdc.loc[cdc.region == item]\n",
    "    \n",
    "    for ind,row in region_df.iterrows():\n",
    "        if row.trans == 'Transgender' and (row.GENHLTH == 'Poor'):\n",
    "            total_trans += 1\n",
    "            trans_poor_health += 1\n",
    "        elif row.trans == 'Transgender':\n",
    "            total_trans += 1\n",
    "        elif row.trans == 'Cisgender' and (row.GENHLTH == 'Poor'):\n",
    "            total_cis += 1\n",
    "            cis_poor_health += 1\n",
    "        elif row.trans == 'Cisgender':\n",
    "            total_cis += 1\n",
    "\n",
    "    pct_trans_poor_reg.append(round((trans_poor_health/total_trans)*100,2))\n",
    "    pct_cis_poor_reg.append(round((cis_poor_health/total_cis)*100,2))\n",
    "\n",
    "region_breakdown = pd.DataFrame({'region':regions, 'pct_trans_poor':pct_trans_poor_reg,\n",
    "                                'pct_cis_poor':pct_cis_poor_reg})"
   ]
  },
  {
   "cell_type": "code",
   "execution_count": null,
   "metadata": {},
   "outputs": [],
   "source": [
    "cdc_trans.region.value_counts()"
   ]
  },
  {
   "cell_type": "code",
   "execution_count": null,
   "metadata": {},
   "outputs": [],
   "source": [
    "region_breakdown['diff'] = region_breakdown.pct_trans_poor - region_breakdown.pct_cis_poor"
   ]
  },
  {
   "cell_type": "code",
   "execution_count": null,
   "metadata": {
    "scrolled": true
   },
   "outputs": [],
   "source": [
    "region_breakdown = region_breakdown.sort_values('diff', ascending = False)"
   ]
  },
  {
   "cell_type": "code",
   "execution_count": null,
   "metadata": {},
   "outputs": [],
   "source": [
    "region_breakdown"
   ]
  },
  {
   "cell_type": "code",
   "execution_count": null,
   "metadata": {},
   "outputs": [],
   "source": [
    "# fig, ax1 = plt.subplots(figsize=(10, 10))\n",
    "# tidy = region_breakdown.melt(id_vars='region').rename(columns=str.title)\n",
    "# sns.barplot(x='Region', y='Value', hue='Variable', data=tidy, ax=ax1)\n",
    "# sns.despine(fig)"
   ]
  },
  {
   "cell_type": "markdown",
   "metadata": {},
   "source": [
    "#### Physical Health"
   ]
  },
  {
   "cell_type": "code",
   "execution_count": null,
   "metadata": {},
   "outputs": [],
   "source": [
    "phys_trans = []\n",
    "phys_cis = []"
   ]
  },
  {
   "cell_type": "code",
   "execution_count": null,
   "metadata": {},
   "outputs": [],
   "source": [
    "for item in regions:\n",
    "    trans_14 = 0\n",
    "    total_trans = 0\n",
    "    cis_14 = 0\n",
    "    total_cis = 0\n",
    "    region_df = cdc.loc[cdc.region == item]\n",
    "    \n",
    "    for ind,row in region_df.iterrows():\n",
    "        if row.trans == 'Transgender' and row._PHYS14D != '14+ days when physical health not good':\n",
    "            total_trans += 1\n",
    "        elif row.trans == 'Transgender' and row._PHYS14D == '14+ days when physical health not good':\n",
    "            total_trans += 1\n",
    "            trans_14 += 1\n",
    "        elif row.trans == 'Cisgender' and row._PHYS14D != '14+ days when physical health not good':\n",
    "            total_cis += 1\n",
    "        elif row.trans == 'Cisgender' and row._PHYS14D == '14+ days when physical health not good':\n",
    "            total_cis += 1\n",
    "            cis_14 += 1\n",
    "\n",
    "    phys_trans.append(round((trans_14/total_trans)*100,2))\n",
    "    phys_cis.append(round((cis_14/total_cis)*100,2))\n",
    "\n",
    "phys_region = pd.DataFrame({'region':regions, 'pct_14_trans':phys_trans,\n",
    "                                'pct_14_cis':phys_cis})"
   ]
  },
  {
   "cell_type": "code",
   "execution_count": null,
   "metadata": {},
   "outputs": [],
   "source": [
    "phys_region['diff'] = phys_region.pct_14_trans - phys_region.pct_14_cis"
   ]
  },
  {
   "cell_type": "code",
   "execution_count": null,
   "metadata": {
    "scrolled": false
   },
   "outputs": [],
   "source": [
    "phys_region = phys_region.sort_values('diff',ascending=False)"
   ]
  },
  {
   "cell_type": "code",
   "execution_count": null,
   "metadata": {},
   "outputs": [],
   "source": [
    "phys_region"
   ]
  },
  {
   "cell_type": "code",
   "execution_count": null,
   "metadata": {},
   "outputs": [],
   "source": [
    "# fig, ax1 = plt.subplots(figsize=(10, 10))\n",
    "# tidy = phys_region.melt(id_vars='region').rename(columns=str.title)\n",
    "# sns.barplot(x='Region', y='Value', hue='Variable', data=tidy, ax=ax1)\n",
    "# sns.despine(fig)"
   ]
  },
  {
   "cell_type": "markdown",
   "metadata": {},
   "source": [
    "#### Mental Health"
   ]
  },
  {
   "cell_type": "code",
   "execution_count": null,
   "metadata": {},
   "outputs": [],
   "source": [
    "ment_trans = []\n",
    "ment_cis = []"
   ]
  },
  {
   "cell_type": "code",
   "execution_count": null,
   "metadata": {},
   "outputs": [],
   "source": [
    "for item in regions:\n",
    "    trans_14 = 0\n",
    "    total_trans = 0\n",
    "    cis_14 = 0\n",
    "    total_cis = 0\n",
    "    region_df = cdc.loc[cdc.region == item]\n",
    "    \n",
    "    for ind,row in region_df.iterrows():\n",
    "        if row.trans == 'Transgender' and row._MENT14D != '14+ days when mental health not good':\n",
    "            total_trans += 1\n",
    "        elif row.trans == 'Transgender' and row._MENT14D == '14+ days when mental health not good':\n",
    "            total_trans += 1\n",
    "            trans_14 += 1\n",
    "        elif row.trans == 'Cisgender' and row._MENT14D != '14+ days when mental health not good':\n",
    "            total_cis += 1\n",
    "        elif row.trans == 'Cisgender' and row._MENT14D == '14+ days when mental health not good':\n",
    "            total_cis += 1\n",
    "            cis_14 += 1\n",
    "\n",
    "    ment_trans.append(round((trans_14/total_trans)*100,2))\n",
    "    ment_cis.append(round((cis_14/total_cis)*100,2))\n",
    "\n",
    "ment_region = pd.DataFrame({'region':regions, 'pct_14_trans':ment_trans,\n",
    "                                'pct_14_cis':ment_cis})"
   ]
  },
  {
   "cell_type": "code",
   "execution_count": null,
   "metadata": {},
   "outputs": [],
   "source": [
    "ment_region['diff'] = ment_region.pct_14_trans - ment_region.pct_14_cis"
   ]
  },
  {
   "cell_type": "code",
   "execution_count": null,
   "metadata": {
    "scrolled": false
   },
   "outputs": [],
   "source": [
    "ment_region.sort_values('diff',ascending=False)"
   ]
  },
  {
   "cell_type": "code",
   "execution_count": null,
   "metadata": {},
   "outputs": [],
   "source": [
    "ment_region"
   ]
  },
  {
   "cell_type": "code",
   "execution_count": null,
   "metadata": {
    "scrolled": false
   },
   "outputs": [],
   "source": [
    "# fig, ax1 = plt.subplots(figsize=(10, 10))\n",
    "# tidy = ment_region.melt(id_vars='region').rename(columns=str.title)\n",
    "# sns.barplot(x='Region', y='Value', hue='Variable', data=tidy, ax=ax1)\n",
    "# sns.despine(fig)"
   ]
  },
  {
   "cell_type": "markdown",
   "metadata": {},
   "source": [
    "#### Merging"
   ]
  },
  {
   "cell_type": "code",
   "execution_count": null,
   "metadata": {
    "scrolled": true
   },
   "outputs": [],
   "source": [
    "reg_phys = pd.merge(region_breakdown,phys_region, on='region',how='outer')"
   ]
  },
  {
   "cell_type": "code",
   "execution_count": null,
   "metadata": {},
   "outputs": [],
   "source": [
    "reg_phys"
   ]
  },
  {
   "cell_type": "code",
   "execution_count": null,
   "metadata": {},
   "outputs": [],
   "source": [
    "health_diff = pd.merge(reg_phys, ment_region, on='region',how='outer')"
   ]
  },
  {
   "cell_type": "code",
   "execution_count": null,
   "metadata": {},
   "outputs": [],
   "source": [
    "health_diff.head()"
   ]
  },
  {
   "cell_type": "code",
   "execution_count": null,
   "metadata": {},
   "outputs": [],
   "source": [
    "health_diff.columns = ['region','poor_fair_gen_health_trans','poor_fair_gen_health_cis','poor_fair_gen_health_diff',\n",
    "                      'poor_phys_health_trans','poor_phys_health_cis','poor_phys_health_diff','poor_ment_health_trans',\n",
    "                      'poor_ment_health_cis','poor_ment_health_diff']"
   ]
  },
  {
   "cell_type": "code",
   "execution_count": null,
   "metadata": {
    "scrolled": true
   },
   "outputs": [],
   "source": [
    "health_diff"
   ]
  },
  {
   "cell_type": "code",
   "execution_count": null,
   "metadata": {},
   "outputs": [],
   "source": [
    "health_diff.to_csv('../data/health_diff.csv',index=False)"
   ]
  },
  {
   "cell_type": "code",
   "execution_count": null,
   "metadata": {},
   "outputs": [],
   "source": [
    "health_diff_viz = health_diff[['poor_fair_gen_health_trans','poor_fair_gen_health_cis', 'poor_phys_health_trans','poor_phys_health_cis','poor_ment_health_trans','poor_ment_health_cis']]"
   ]
  },
  {
   "cell_type": "markdown",
   "metadata": {},
   "source": [
    "## What factors might contribute to those health disparities?"
   ]
  },
  {
   "cell_type": "markdown",
   "metadata": {},
   "source": [
    "### What age ranges do cis and trans people fall in?"
   ]
  },
  {
   "cell_type": "code",
   "execution_count": null,
   "metadata": {
    "scrolled": false
   },
   "outputs": [],
   "source": [
    "trans_age_grouped = cdc_trans.groupby(['region', '_AGE_G']).size()"
   ]
  },
  {
   "cell_type": "code",
   "execution_count": null,
   "metadata": {},
   "outputs": [],
   "source": [
    "trans_age_pct = trans_age_grouped.groupby(level=0).apply(lambda x:\n",
    "                                                 100 * x / float(x.sum()))\n",
    "trans_age_pct = trans_age_pct.reset_index()\n",
    "trans_age_pct.columns = ['region','age_range','trans_pct']\n",
    "trans_age_pct.head()"
   ]
  },
  {
   "cell_type": "code",
   "execution_count": null,
   "metadata": {},
   "outputs": [],
   "source": [
    "cis_age_grouped = cdc_cis.groupby(['region', '_AGE_G']).size()\n",
    "cis_age_pct = cis_age_grouped.groupby(level=0).apply(lambda x:\n",
    "                                                 100 * x / float(x.sum()))\n",
    "cis_age_pct = cis_age_pct.reset_index()\n",
    "cis_age_pct.columns = ['region','age_range','cis_pct']\n",
    "cis_age_pct.head()"
   ]
  },
  {
   "cell_type": "code",
   "execution_count": null,
   "metadata": {},
   "outputs": [],
   "source": [
    "ages_merged = pd.merge(trans_age_pct,cis_age_pct, on=['region','age_range'],how='outer')\n",
    "ages_merged"
   ]
  },
  {
   "cell_type": "markdown",
   "metadata": {},
   "source": [
    "### What percentage of cis and trans people have health coverage?"
   ]
  },
  {
   "cell_type": "code",
   "execution_count": null,
   "metadata": {},
   "outputs": [],
   "source": [
    "trans_health_coverage = cdc_trans.groupby(['region', '_HCVU651']).size()\n",
    "trans_health_coverage_df = trans_health_coverage.groupby(level=0).apply(lambda x:\n",
    "                                                 100 * x / float(x.sum()))\n",
    "trans_health_coverage_df = trans_health_coverage_df.reset_index()\n",
    "trans_health_coverage_df.columns = ['region','health_coverage_status','pct']\n",
    "trans_health_coverage_df = trans_health_coverage_df.loc[trans_health_coverage_df.health_coverage_status.isin(['Do not have health care coverage'])]\n",
    "trans_no_coverage = trans_health_coverage_df[['region','pct']]\n",
    "trans_no_coverage"
   ]
  },
  {
   "cell_type": "code",
   "execution_count": null,
   "metadata": {},
   "outputs": [],
   "source": [
    "cis_health_coverage = cdc_cis.groupby(['region', '_HCVU651']).size()\n",
    "cis_health_coverage_df = cis_health_coverage.groupby(level=0).apply(lambda x:\n",
    "                                                 100 * x / float(x.sum()))\n",
    "cis_health_coverage_df = cis_health_coverage_df.reset_index()\n",
    "cis_health_coverage_df.columns = ['region','health_coverage_status','pct']\n",
    "cis_health_coverage_df = cis_health_coverage_df.loc[cis_health_coverage_df.health_coverage_status.isin(['Do not have health care coverage'])]\n",
    "cis_no_coverage = cis_health_coverage_df[['region','pct']]\n",
    "cis_no_coverage"
   ]
  },
  {
   "cell_type": "code",
   "execution_count": null,
   "metadata": {
    "scrolled": true
   },
   "outputs": [],
   "source": [
    "no_health_coverage = pd.merge(trans_no_coverage,cis_no_coverage,on='region')\n",
    "no_health_coverage.columns = ['region','pct_trans','pct_cis']\n",
    "no_health_coverage['diff']=no_health_coverage.pct_trans - no_health_coverage.pct_cis\n",
    "no_health_coverage"
   ]
  },
  {
   "cell_type": "code",
   "execution_count": null,
   "metadata": {},
   "outputs": [],
   "source": [
    "no_health_coverage = no_health_coverage.sort_values('diff', ascending=False)"
   ]
  },
  {
   "cell_type": "code",
   "execution_count": null,
   "metadata": {},
   "outputs": [],
   "source": [
    "# fig, ax1 = plt.subplots(figsize=(10, 10))\n",
    "# tidy = no_health_coverage.melt(id_vars='region').rename(columns=str.title)\n",
    "# sns.barplot(x='Region', y='Value', hue='Variable', data=tidy, ax=ax1)\n",
    "# sns.despine(fig)"
   ]
  },
  {
   "cell_type": "code",
   "execution_count": null,
   "metadata": {},
   "outputs": [],
   "source": []
  }
 ],
 "metadata": {
  "kernelspec": {
   "display_name": "Python 3",
   "language": "python",
   "name": "python3"
  },
  "language_info": {
   "codemirror_mode": {
    "name": "ipython",
    "version": 3
   },
   "file_extension": ".py",
   "mimetype": "text/x-python",
   "name": "python",
   "nbconvert_exporter": "python",
   "pygments_lexer": "ipython3",
   "version": "3.8.5"
  }
 },
 "nbformat": 4,
 "nbformat_minor": 4
}
