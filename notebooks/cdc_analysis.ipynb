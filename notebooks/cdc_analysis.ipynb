{
 "cells": [
  {
   "cell_type": "code",
   "execution_count": 1,
   "metadata": {},
   "outputs": [],
   "source": [
    "import pandas as pd\n",
    "import matplotlib.pyplot as plt\n",
    "import seaborn as sns\n",
    "import warnings\n",
    "warnings.filterwarnings('ignore')\n",
    "import numpy as np\n",
    "\n",
    "%matplotlib inline"
   ]
  },
  {
   "cell_type": "code",
   "execution_count": 2,
   "metadata": {},
   "outputs": [],
   "source": [
    "cdc = pd.read_csv('../data/cdc_clean.csv')"
   ]
  },
  {
   "cell_type": "code",
   "execution_count": 3,
   "metadata": {
    "scrolled": false
   },
   "outputs": [
    {
     "data": {
      "text/html": [
       "<div>\n",
       "<style scoped>\n",
       "    .dataframe tbody tr th:only-of-type {\n",
       "        vertical-align: middle;\n",
       "    }\n",
       "\n",
       "    .dataframe tbody tr th {\n",
       "        vertical-align: top;\n",
       "    }\n",
       "\n",
       "    .dataframe thead th {\n",
       "        text-align: right;\n",
       "    }\n",
       "</style>\n",
       "<table border=\"1\" class=\"dataframe\">\n",
       "  <thead>\n",
       "    <tr style=\"text-align: right;\">\n",
       "      <th></th>\n",
       "      <th>_STATE</th>\n",
       "      <th>_AGE_G</th>\n",
       "      <th>_SEX</th>\n",
       "      <th>BIRTHSEX</th>\n",
       "      <th>SOMALE</th>\n",
       "      <th>SOFEMALE</th>\n",
       "      <th>TRNSGNDR</th>\n",
       "      <th>PVTRESD3</th>\n",
       "      <th>MARITAL</th>\n",
       "      <th>_EDUCAG</th>\n",
       "      <th>...</th>\n",
       "      <th>poor_gen_health_trans</th>\n",
       "      <th>poor_gen_health_cis</th>\n",
       "      <th>poor_phys_health</th>\n",
       "      <th>poor_phys_health_trans</th>\n",
       "      <th>poor_phys_health_cis</th>\n",
       "      <th>poor_ment_health</th>\n",
       "      <th>poor_ment_health_trans</th>\n",
       "      <th>poor_ment_health_cis</th>\n",
       "      <th>persdoc</th>\n",
       "      <th>checkup</th>\n",
       "    </tr>\n",
       "  </thead>\n",
       "  <tbody>\n",
       "    <tr>\n",
       "      <th>7347</th>\n",
       "      <td>Alaska</td>\n",
       "      <td>Age 45 to 54</td>\n",
       "      <td>Female</td>\n",
       "      <td>NaN</td>\n",
       "      <td>NaN</td>\n",
       "      <td>Straight</td>\n",
       "      <td>Yes, female to male</td>\n",
       "      <td>NaN</td>\n",
       "      <td>Married</td>\n",
       "      <td>Graduated from College or Technical School</td>\n",
       "      <td>...</td>\n",
       "      <td>No</td>\n",
       "      <td>NaN</td>\n",
       "      <td>No</td>\n",
       "      <td>No</td>\n",
       "      <td>NaN</td>\n",
       "      <td>No</td>\n",
       "      <td>No</td>\n",
       "      <td>NaN</td>\n",
       "      <td>One or more</td>\n",
       "      <td>Within past year</td>\n",
       "    </tr>\n",
       "    <tr>\n",
       "      <th>7635</th>\n",
       "      <td>Alaska</td>\n",
       "      <td>Age 35 to 44</td>\n",
       "      <td>Male</td>\n",
       "      <td>NaN</td>\n",
       "      <td>Straight</td>\n",
       "      <td>NaN</td>\n",
       "      <td>Yes, male to female</td>\n",
       "      <td>NaN</td>\n",
       "      <td>Never Married</td>\n",
       "      <td>Graduated High School</td>\n",
       "      <td>...</td>\n",
       "      <td>No</td>\n",
       "      <td>NaN</td>\n",
       "      <td>No</td>\n",
       "      <td>No</td>\n",
       "      <td>NaN</td>\n",
       "      <td>Yes</td>\n",
       "      <td>Yes</td>\n",
       "      <td>NaN</td>\n",
       "      <td>One or more</td>\n",
       "      <td>Within past year</td>\n",
       "    </tr>\n",
       "    <tr>\n",
       "      <th>7709</th>\n",
       "      <td>Alaska</td>\n",
       "      <td>Age 65 and older</td>\n",
       "      <td>Male</td>\n",
       "      <td>NaN</td>\n",
       "      <td>Gay</td>\n",
       "      <td>NaN</td>\n",
       "      <td>Yes, male to female</td>\n",
       "      <td>NaN</td>\n",
       "      <td>Separated</td>\n",
       "      <td>Did not graduate High School</td>\n",
       "      <td>...</td>\n",
       "      <td>No</td>\n",
       "      <td>NaN</td>\n",
       "      <td>No</td>\n",
       "      <td>No</td>\n",
       "      <td>NaN</td>\n",
       "      <td>No</td>\n",
       "      <td>No</td>\n",
       "      <td>NaN</td>\n",
       "      <td>One or more</td>\n",
       "      <td>Within past year</td>\n",
       "    </tr>\n",
       "    <tr>\n",
       "      <th>7993</th>\n",
       "      <td>Alaska</td>\n",
       "      <td>Age 35 to 44</td>\n",
       "      <td>Male</td>\n",
       "      <td>NaN</td>\n",
       "      <td>Straight</td>\n",
       "      <td>NaN</td>\n",
       "      <td>Yes, male to female</td>\n",
       "      <td>NaN</td>\n",
       "      <td>Married</td>\n",
       "      <td>Graduated High School</td>\n",
       "      <td>...</td>\n",
       "      <td>No</td>\n",
       "      <td>NaN</td>\n",
       "      <td>No</td>\n",
       "      <td>No</td>\n",
       "      <td>NaN</td>\n",
       "      <td>No</td>\n",
       "      <td>No</td>\n",
       "      <td>NaN</td>\n",
       "      <td>One or more</td>\n",
       "      <td>Within past year</td>\n",
       "    </tr>\n",
       "    <tr>\n",
       "      <th>8102</th>\n",
       "      <td>Alaska</td>\n",
       "      <td>Age 65 and older</td>\n",
       "      <td>Male</td>\n",
       "      <td>NaN</td>\n",
       "      <td>Something Else</td>\n",
       "      <td>NaN</td>\n",
       "      <td>Yes, gender nonconforming</td>\n",
       "      <td>NaN</td>\n",
       "      <td>Divorced</td>\n",
       "      <td>Graduated from College or Technical School</td>\n",
       "      <td>...</td>\n",
       "      <td>No</td>\n",
       "      <td>NaN</td>\n",
       "      <td>No</td>\n",
       "      <td>No</td>\n",
       "      <td>NaN</td>\n",
       "      <td>No</td>\n",
       "      <td>No</td>\n",
       "      <td>NaN</td>\n",
       "      <td>One or more</td>\n",
       "      <td>Within past year</td>\n",
       "    </tr>\n",
       "  </tbody>\n",
       "</table>\n",
       "<p>5 rows × 39 columns</p>\n",
       "</div>"
      ],
      "text/plain": [
       "      _STATE            _AGE_G    _SEX BIRTHSEX          SOMALE  SOFEMALE  \\\n",
       "7347  Alaska      Age 45 to 54  Female      NaN             NaN  Straight   \n",
       "7635  Alaska      Age 35 to 44    Male      NaN        Straight       NaN   \n",
       "7709  Alaska  Age 65 and older    Male      NaN             Gay       NaN   \n",
       "7993  Alaska      Age 35 to 44    Male      NaN        Straight       NaN   \n",
       "8102  Alaska  Age 65 and older    Male      NaN  Something Else       NaN   \n",
       "\n",
       "                       TRNSGNDR PVTRESD3        MARITAL  \\\n",
       "7347        Yes, female to male      NaN        Married   \n",
       "7635        Yes, male to female      NaN  Never Married   \n",
       "7709        Yes, male to female      NaN      Separated   \n",
       "7993        Yes, male to female      NaN        Married   \n",
       "8102  Yes, gender nonconforming      NaN       Divorced   \n",
       "\n",
       "                                         _EDUCAG  ... poor_gen_health_trans  \\\n",
       "7347  Graduated from College or Technical School  ...                    No   \n",
       "7635                       Graduated High School  ...                    No   \n",
       "7709                Did not graduate High School  ...                    No   \n",
       "7993                       Graduated High School  ...                    No   \n",
       "8102  Graduated from College or Technical School  ...                    No   \n",
       "\n",
       "     poor_gen_health_cis poor_phys_health poor_phys_health_trans  \\\n",
       "7347                 NaN               No                     No   \n",
       "7635                 NaN               No                     No   \n",
       "7709                 NaN               No                     No   \n",
       "7993                 NaN               No                     No   \n",
       "8102                 NaN               No                     No   \n",
       "\n",
       "     poor_phys_health_cis poor_ment_health poor_ment_health_trans  \\\n",
       "7347                  NaN               No                     No   \n",
       "7635                  NaN              Yes                    Yes   \n",
       "7709                  NaN               No                     No   \n",
       "7993                  NaN               No                     No   \n",
       "8102                  NaN               No                     No   \n",
       "\n",
       "     poor_ment_health_cis      persdoc           checkup  \n",
       "7347                  NaN  One or more  Within past year  \n",
       "7635                  NaN  One or more  Within past year  \n",
       "7709                  NaN  One or more  Within past year  \n",
       "7993                  NaN  One or more  Within past year  \n",
       "8102                  NaN  One or more  Within past year  \n",
       "\n",
       "[5 rows x 39 columns]"
      ]
     },
     "execution_count": 3,
     "metadata": {},
     "output_type": "execute_result"
    }
   ],
   "source": [
    "cdc_trans = cdc.loc[cdc.trans.isin(['Transgender'])]\n",
    "cdc_cis = cdc.loc[cdc.trans.isin(['Cisgender'])]\n",
    "cdc_trans.head()"
   ]
  },
  {
   "cell_type": "markdown",
   "metadata": {},
   "source": [
    "## 1. What regions have the greatest health disparities between transgender and cisgender people?"
   ]
  },
  {
   "cell_type": "markdown",
   "metadata": {},
   "source": [
    "### National Health"
   ]
  },
  {
   "cell_type": "code",
   "execution_count": 4,
   "metadata": {},
   "outputs": [],
   "source": [
    "trans_poor_health = 0\n",
    "total_trans = 0\n",
    "cis_poor_health = 0\n",
    "total_cis = 0"
   ]
  },
  {
   "cell_type": "code",
   "execution_count": 5,
   "metadata": {},
   "outputs": [
    {
     "name": "stdout",
     "output_type": "stream",
     "text": [
      "Percent of Trans People with Poor General Health: 9.01%\n",
      "Percent of Cis People with Poor General Health: 5.23%\n"
     ]
    }
   ],
   "source": [
    "for ind,row in cdc.iterrows():\n",
    "    if row.trans == 'Transgender' and row.GENHLTH == 'Poor':\n",
    "        total_trans += 1\n",
    "        trans_poor_health += 1\n",
    "    elif row.trans == 'Transgender':\n",
    "        total_trans += 1\n",
    "    elif row.trans == 'Cisgender' and row.GENHLTH == 'Poor':\n",
    "        total_cis += 1\n",
    "        cis_poor_health += 1\n",
    "    elif row.trans == 'Cisgender':\n",
    "        total_cis += 1\n",
    "print(str.format('Percent of Trans People with Poor General Health: {}%', round((trans_poor_health/total_trans)*100,2)))\n",
    "print(str.format('Percent of Cis People with Poor General Health: {}%', round((cis_poor_health/total_cis)*100,2)))"
   ]
  },
  {
   "cell_type": "code",
   "execution_count": 6,
   "metadata": {},
   "outputs": [],
   "source": [
    "trans_14 = 0\n",
    "total_trans = 0\n",
    "cis_14 = 0\n",
    "total_cis = 0"
   ]
  },
  {
   "cell_type": "code",
   "execution_count": 7,
   "metadata": {},
   "outputs": [
    {
     "name": "stdout",
     "output_type": "stream",
     "text": [
      "Percent of Trans People with 14+ days in the last month when physical health not good: 19.48%\n",
      "Percent of Cis People with 14+ days in the last month when physical health not good: 13.76%\n"
     ]
    }
   ],
   "source": [
    "for ind,row in cdc.iterrows():\n",
    "    if row.trans == 'Transgender' and row._PHYS14D != '14+ days when physical health not good':\n",
    "        total_trans += 1\n",
    "    elif row.trans == 'Transgender' and row._PHYS14D == '14+ days when physical health not good':\n",
    "        total_trans += 1\n",
    "        trans_14 += 1\n",
    "    elif row.trans == 'Cisgender' and row._PHYS14D != '14+ days when physical health not good':\n",
    "        total_cis += 1\n",
    "    elif row.trans == 'Cisgender' and row._PHYS14D == '14+ days when physical health not good':\n",
    "        total_cis += 1\n",
    "        cis_14 += 1\n",
    "\n",
    "print(str.format('Percent of Trans People with 14+ days in the last month when physical health not good: {}%', round((trans_14/total_trans)*100,2)))\n",
    "print(str.format('Percent of Cis People with 14+ days in the last month when physical health not good: {}%',round((cis_14/total_cis)*100,2)))"
   ]
  },
  {
   "cell_type": "code",
   "execution_count": 8,
   "metadata": {},
   "outputs": [],
   "source": [
    "trans_14 = 0\n",
    "total_trans = 0\n",
    "cis_14 = 0\n",
    "total_cis = 0"
   ]
  },
  {
   "cell_type": "code",
   "execution_count": 9,
   "metadata": {},
   "outputs": [
    {
     "name": "stdout",
     "output_type": "stream",
     "text": [
      "Percent of Trans People with 14+ days in the last month when mental health not good: 29.11%\n",
      "Percent of Cis People with 14+ days in the last month when mental health not good: 11.73%\n"
     ]
    }
   ],
   "source": [
    "for ind,row in cdc.iterrows():\n",
    "    if row.trans == 'Transgender' and row._MENT14D != '14+ days when mental health not good':\n",
    "        total_trans += 1\n",
    "    elif row.trans == 'Transgender' and row._MENT14D == '14+ days when mental health not good':\n",
    "        total_trans += 1\n",
    "        trans_14 += 1\n",
    "    elif row.trans == 'Cisgender' and row._MENT14D != '14+ days when mental health not good':\n",
    "        total_cis += 1\n",
    "    elif row.trans == 'Cisgender' and row._MENT14D == '14+ days when mental health not good':\n",
    "        total_cis += 1\n",
    "        cis_14 += 1\n",
    "\n",
    "print(str.format('Percent of Trans People with 14+ days in the last month when mental health not good: {}%', round((trans_14/total_trans)*100,2)))\n",
    "print(str.format('Percent of Cis People with 14+ days in the last month when mental health not good: {}%',round((cis_14/total_cis)*100,2)))"
   ]
  },
  {
   "cell_type": "markdown",
   "metadata": {},
   "source": [
    "### Health State Breakdown"
   ]
  },
  {
   "cell_type": "code",
   "execution_count": 10,
   "metadata": {},
   "outputs": [],
   "source": [
    "# states = list(cdc_trans._STATE.unique())"
   ]
  },
  {
   "cell_type": "code",
   "execution_count": 11,
   "metadata": {},
   "outputs": [],
   "source": [
    "# dict_states = []\n",
    "# pct_trans_poor_fair = []\n",
    "# pct_cis_poor_fair = []"
   ]
  },
  {
   "cell_type": "code",
   "execution_count": 12,
   "metadata": {},
   "outputs": [],
   "source": [
    "# for item in states:\n",
    "#     trans_poor_fair_health = 0\n",
    "#     total_trans = 0\n",
    "#     cis_poor_fair_health = 0\n",
    "#     total_cis = 0\n",
    "#     dict_state = item\n",
    "#     state_df = cdc.loc[cdc._STATE == item]\n",
    "    \n",
    "#     for ind,row in state_df.iterrows():\n",
    "#         if row.trans == 'Yes' and (row._RFHLTH == 'Good or Better Health' or row._RFHLTH == np.nan):\n",
    "#             total_trans += 1\n",
    "#         elif row.trans == 'Yes' and row._RFHLTH == 'Fair or Poor Health':\n",
    "#             total_trans += 1\n",
    "#             trans_poor_fair_health += 1\n",
    "#         elif row.trans == 'No' and (row._RFHLTH == 'Good or Better Health' or row._RFHLTH == np.nan):\n",
    "#             total_cis += 1\n",
    "#         elif row.trans == 'No' and row._RFHLTH == 'Fair or Poor Health':\n",
    "#             total_cis += 1\n",
    "#             cis_poor_fair_health += 1\n",
    "\n",
    "#     dict_states.append(dict_state)\n",
    "#     pct_trans_poor_fair.append(round((trans_poor_fair_health/total_trans)*100,2))\n",
    "#     pct_cis_poor_fair.append(round((cis_poor_fair_health/total_cis)*100,2))"
   ]
  },
  {
   "cell_type": "code",
   "execution_count": 13,
   "metadata": {},
   "outputs": [],
   "source": [
    "# state_breakdown = pd.DataFrame({'state':states, 'pct_trans_poor_fair':pct_trans_poor_fair,\n",
    "#                                 'pct_cis_poor_fair':pct_cis_poor_fair})\n",
    "# state_breakdown.head()"
   ]
  },
  {
   "cell_type": "code",
   "execution_count": 14,
   "metadata": {
    "scrolled": true
   },
   "outputs": [],
   "source": [
    "# state_breakdown.sort_values('pct_trans_poor_fair', ascending=False)"
   ]
  },
  {
   "cell_type": "code",
   "execution_count": 15,
   "metadata": {},
   "outputs": [],
   "source": [
    "# state_breakdown['diff'] = state_breakdown.pct_trans_poor_fair - state_breakdown.pct_cis_poor_fair"
   ]
  },
  {
   "cell_type": "code",
   "execution_count": 16,
   "metadata": {},
   "outputs": [],
   "source": [
    "# state_breakdown.sort_values('diff',ascending=False)"
   ]
  },
  {
   "cell_type": "code",
   "execution_count": 17,
   "metadata": {},
   "outputs": [],
   "source": [
    "# cdc_trans._STATE.value_counts()"
   ]
  },
  {
   "cell_type": "markdown",
   "metadata": {},
   "source": [
    "### Health Region Breakdown"
   ]
  },
  {
   "cell_type": "markdown",
   "metadata": {},
   "source": [
    "#### General Health"
   ]
  },
  {
   "cell_type": "code",
   "execution_count": 18,
   "metadata": {},
   "outputs": [],
   "source": [
    "regions = list(cdc_trans.region.unique())"
   ]
  },
  {
   "cell_type": "code",
   "execution_count": 19,
   "metadata": {},
   "outputs": [],
   "source": [
    "pct_trans_poor_reg = []\n",
    "pct_cis_poor_reg = []"
   ]
  },
  {
   "cell_type": "code",
   "execution_count": 20,
   "metadata": {},
   "outputs": [],
   "source": [
    "for item in regions:\n",
    "    trans_poor_health = 0\n",
    "    total_trans = 0\n",
    "    cis_poor_health = 0\n",
    "    total_cis = 0\n",
    "    region_df = cdc.loc[cdc.region == item]\n",
    "    \n",
    "    for ind,row in region_df.iterrows():\n",
    "        if row.trans == 'Transgender' and (row.GENHLTH == 'Poor'):\n",
    "            total_trans += 1\n",
    "            trans_poor_health += 1\n",
    "        elif row.trans == 'Transgender':\n",
    "            total_trans += 1\n",
    "        elif row.trans == 'Cisgender' and (row.GENHLTH == 'Poor'):\n",
    "            total_cis += 1\n",
    "            cis_poor_health += 1\n",
    "        elif row.trans == 'Cisgender':\n",
    "            total_cis += 1\n",
    "\n",
    "    pct_trans_poor_reg.append(round((trans_poor_health/total_trans)*100,2))\n",
    "    pct_cis_poor_reg.append(round((cis_poor_health/total_cis)*100,2))\n",
    "\n",
    "region_breakdown = pd.DataFrame({'region':regions, 'pct_trans_poor':pct_trans_poor_reg,\n",
    "                                'pct_cis_poor':pct_cis_poor_reg})"
   ]
  },
  {
   "cell_type": "code",
   "execution_count": 21,
   "metadata": {},
   "outputs": [
    {
     "data": {
      "text/plain": [
       "South          345\n",
       "West           255\n",
       "Midwest        180\n",
       "Northeast      149\n",
       "Territories     26\n",
       "Name: region, dtype: int64"
      ]
     },
     "execution_count": 21,
     "metadata": {},
     "output_type": "execute_result"
    }
   ],
   "source": [
    "cdc_trans.region.value_counts()"
   ]
  },
  {
   "cell_type": "code",
   "execution_count": 22,
   "metadata": {},
   "outputs": [],
   "source": [
    "region_breakdown['diff'] = region_breakdown.pct_trans_poor - region_breakdown.pct_cis_poor"
   ]
  },
  {
   "cell_type": "code",
   "execution_count": 23,
   "metadata": {
    "scrolled": true
   },
   "outputs": [],
   "source": [
    "region_breakdown = region_breakdown.sort_values('diff', ascending = False)"
   ]
  },
  {
   "cell_type": "code",
   "execution_count": 24,
   "metadata": {},
   "outputs": [
    {
     "data": {
      "image/png": "[encoded data removed]",
      "text/plain": [
       "<Figure size 720x720 with 1 Axes>"
      ]
     },
     "metadata": {
      "needs_background": "light"
     },
     "output_type": "display_data"
    }
   ],
   "source": [
    "fig, ax1 = plt.subplots(figsize=(10, 10))\n",
    "tidy = region_breakdown.melt(id_vars='region').rename(columns=str.title)\n",
    "sns.barplot(x='Region', y='Value', hue='Variable', data=tidy, ax=ax1)\n",
    "sns.despine(fig)"
   ]
  },
  {
   "cell_type": "markdown",
   "metadata": {},
   "source": [
    "#### Physical Health"
   ]
  },
  {
   "cell_type": "code",
   "execution_count": 25,
   "metadata": {},
   "outputs": [],
   "source": [
    "phys_trans = []\n",
    "phys_cis = []"
   ]
  },
  {
   "cell_type": "code",
   "execution_count": 26,
   "metadata": {},
   "outputs": [],
   "source": [
    "for item in regions:\n",
    "    trans_14 = 0\n",
    "    total_trans = 0\n",
    "    cis_14 = 0\n",
    "    total_cis = 0\n",
    "    region_df = cdc.loc[cdc.region == item]\n",
    "    \n",
    "    for ind,row in region_df.iterrows():\n",
    "        if row.trans == 'Transgender' and row._PHYS14D != '14+ days when physical health not good':\n",
    "            total_trans += 1\n",
    "        elif row.trans == 'Transgender' and row._PHYS14D == '14+ days when physical health not good':\n",
    "            total_trans += 1\n",
    "            trans_14 += 1\n",
    "        elif row.trans == 'Cisgender' and row._PHYS14D != '14+ days when physical health not good':\n",
    "            total_cis += 1\n",
    "        elif row.trans == 'Cisgender' and row._PHYS14D == '14+ days when physical health not good':\n",
    "            total_cis += 1\n",
    "            cis_14 += 1\n",
    "\n",
    "    phys_trans.append(round((trans_14/total_trans)*100,2))\n",
    "    phys_cis.append(round((cis_14/total_cis)*100,2))\n",
    "\n",
    "phys_region = pd.DataFrame({'region':regions, 'pct_14_trans':phys_trans,\n",
    "                                'pct_14_cis':phys_cis})"
   ]
  },
  {
   "cell_type": "code",
   "execution_count": 27,
   "metadata": {},
   "outputs": [],
   "source": [
    "phys_region['diff'] = phys_region.pct_14_trans - phys_region.pct_14_cis"
   ]
  },
  {
   "cell_type": "code",
   "execution_count": 28,
   "metadata": {
    "scrolled": false
   },
   "outputs": [],
   "source": [
    "phys_region = phys_region.sort_values('diff',ascending=False)"
   ]
  },
  {
   "cell_type": "code",
   "execution_count": 29,
   "metadata": {},
   "outputs": [
    {
     "data": {
      "image/png": "[encoded data removed]",
      "text/plain": [
       "<Figure size 720x720 with 1 Axes>"
      ]
     },
     "metadata": {
      "needs_background": "light"
     },
     "output_type": "display_data"
    }
   ],
   "source": [
    "fig, ax1 = plt.subplots(figsize=(10, 10))\n",
    "tidy = phys_region.melt(id_vars='region').rename(columns=str.title)\n",
    "sns.barplot(x='Region', y='Value', hue='Variable', data=tidy, ax=ax1)\n",
    "sns.despine(fig)"
   ]
  },
  {
   "cell_type": "markdown",
   "metadata": {},
   "source": [
    "#### Mental Health"
   ]
  },
  {
   "cell_type": "code",
   "execution_count": 30,
   "metadata": {},
   "outputs": [],
   "source": [
    "ment_trans = []\n",
    "ment_cis = []"
   ]
  },
  {
   "cell_type": "code",
   "execution_count": 31,
   "metadata": {},
   "outputs": [],
   "source": [
    "for item in regions:\n",
    "    trans_14 = 0\n",
    "    total_trans = 0\n",
    "    cis_14 = 0\n",
    "    total_cis = 0\n",
    "    region_df = cdc.loc[cdc.region == item]\n",
    "    \n",
    "    for ind,row in region_df.iterrows():\n",
    "        if row.trans == 'Transgender' and row._MENT14D != '14+ days when mental health not good':\n",
    "            total_trans += 1\n",
    "        elif row.trans == 'Transgender' and row._MENT14D == '14+ days when mental health not good':\n",
    "            total_trans += 1\n",
    "            trans_14 += 1\n",
    "        elif row.trans == 'Cisgender' and row._MENT14D != '14+ days when mental health not good':\n",
    "            total_cis += 1\n",
    "        elif row.trans == 'Cisgender' and row._MENT14D == '14+ days when mental health not good':\n",
    "            total_cis += 1\n",
    "            cis_14 += 1\n",
    "\n",
    "    ment_trans.append(round((trans_14/total_trans)*100,2))\n",
    "    ment_cis.append(round((cis_14/total_cis)*100,2))\n",
    "\n",
    "ment_region = pd.DataFrame({'region':regions, 'pct_14_trans':ment_trans,\n",
    "                                'pct_14_cis':ment_cis})"
   ]
  },
  {
   "cell_type": "code",
   "execution_count": 32,
   "metadata": {},
   "outputs": [],
   "source": [
    "ment_region['diff'] = ment_region.pct_14_trans - ment_region.pct_14_cis"
   ]
  },
  {
   "cell_type": "code",
   "execution_count": 33,
   "metadata": {
    "scrolled": false
   },
   "outputs": [
    {
     "data": {
      "text/html": [
       "<div>\n",
       "<style scoped>\n",
       "    .dataframe tbody tr th:only-of-type {\n",
       "        vertical-align: middle;\n",
       "    }\n",
       "\n",
       "    .dataframe tbody tr th {\n",
       "        vertical-align: top;\n",
       "    }\n",
       "\n",
       "    .dataframe thead th {\n",
       "        text-align: right;\n",
       "    }\n",
       "</style>\n",
       "<table border=\"1\" class=\"dataframe\">\n",
       "  <thead>\n",
       "    <tr style=\"text-align: right;\">\n",
       "      <th></th>\n",
       "      <th>region</th>\n",
       "      <th>pct_14_trans</th>\n",
       "      <th>pct_14_cis</th>\n",
       "      <th>diff</th>\n",
       "    </tr>\n",
       "  </thead>\n",
       "  <tbody>\n",
       "    <tr>\n",
       "      <th>0</th>\n",
       "      <td>West</td>\n",
       "      <td>32.94</td>\n",
       "      <td>11.31</td>\n",
       "      <td>21.63</td>\n",
       "    </tr>\n",
       "    <tr>\n",
       "      <th>1</th>\n",
       "      <td>Northeast</td>\n",
       "      <td>30.20</td>\n",
       "      <td>10.86</td>\n",
       "      <td>19.34</td>\n",
       "    </tr>\n",
       "    <tr>\n",
       "      <th>2</th>\n",
       "      <td>South</td>\n",
       "      <td>28.99</td>\n",
       "      <td>12.69</td>\n",
       "      <td>16.30</td>\n",
       "    </tr>\n",
       "    <tr>\n",
       "      <th>3</th>\n",
       "      <td>Midwest</td>\n",
       "      <td>26.11</td>\n",
       "      <td>11.07</td>\n",
       "      <td>15.04</td>\n",
       "    </tr>\n",
       "    <tr>\n",
       "      <th>4</th>\n",
       "      <td>Territories</td>\n",
       "      <td>7.69</td>\n",
       "      <td>12.17</td>\n",
       "      <td>-4.48</td>\n",
       "    </tr>\n",
       "  </tbody>\n",
       "</table>\n",
       "</div>"
      ],
      "text/plain": [
       "        region  pct_14_trans  pct_14_cis   diff\n",
       "0         West         32.94       11.31  21.63\n",
       "1    Northeast         30.20       10.86  19.34\n",
       "2        South         28.99       12.69  16.30\n",
       "3      Midwest         26.11       11.07  15.04\n",
       "4  Territories          7.69       12.17  -4.48"
      ]
     },
     "execution_count": 33,
     "metadata": {},
     "output_type": "execute_result"
    }
   ],
   "source": [
    "ment_region.sort_values('diff',ascending=False)"
   ]
  },
  {
   "cell_type": "code",
   "execution_count": 34,
   "metadata": {
    "scrolled": false
   },
   "outputs": [
    {
     "data": {
      "image/png": "[encoded data removed]",
      "text/plain": [
       "<Figure size 720x720 with 1 Axes>"
      ]
     },
     "metadata": {
      "needs_background": "light"
     },
     "output_type": "display_data"
    }
   ],
   "source": [
    "fig, ax1 = plt.subplots(figsize=(10, 10))\n",
    "tidy = ment_region.melt(id_vars='region').rename(columns=str.title)\n",
    "sns.barplot(x='Region', y='Value', hue='Variable', data=tidy, ax=ax1)\n",
    "sns.despine(fig)"
   ]
  },
  {
   "cell_type": "markdown",
   "metadata": {},
   "source": [
    "#### Merging"
   ]
  },
  {
   "cell_type": "code",
   "execution_count": 35,
   "metadata": {
    "scrolled": true
   },
   "outputs": [],
   "source": [
    "reg_phys = pd.merge(region_breakdown,phys_region, on='region',how='outer')"
   ]
  },
  {
   "cell_type": "code",
   "execution_count": 36,
   "metadata": {},
   "outputs": [
    {
     "data": {
      "text/html": [
       "<div>\n",
       "<style scoped>\n",
       "    .dataframe tbody tr th:only-of-type {\n",
       "        vertical-align: middle;\n",
       "    }\n",
       "\n",
       "    .dataframe tbody tr th {\n",
       "        vertical-align: top;\n",
       "    }\n",
       "\n",
       "    .dataframe thead th {\n",
       "        text-align: right;\n",
       "    }\n",
       "</style>\n",
       "<table border=\"1\" class=\"dataframe\">\n",
       "  <thead>\n",
       "    <tr style=\"text-align: right;\">\n",
       "      <th></th>\n",
       "      <th>region</th>\n",
       "      <th>pct_trans_poor</th>\n",
       "      <th>pct_cis_poor</th>\n",
       "      <th>diff_x</th>\n",
       "      <th>pct_14_trans</th>\n",
       "      <th>pct_14_cis</th>\n",
       "      <th>diff_y</th>\n",
       "    </tr>\n",
       "  </thead>\n",
       "  <tbody>\n",
       "    <tr>\n",
       "      <th>0</th>\n",
       "      <td>Territories</td>\n",
       "      <td>15.38</td>\n",
       "      <td>5.26</td>\n",
       "      <td>10.12</td>\n",
       "      <td>11.54</td>\n",
       "      <td>12.12</td>\n",
       "      <td>-0.58</td>\n",
       "    </tr>\n",
       "    <tr>\n",
       "      <th>1</th>\n",
       "      <td>Midwest</td>\n",
       "      <td>8.89</td>\n",
       "      <td>4.31</td>\n",
       "      <td>4.58</td>\n",
       "      <td>20.00</td>\n",
       "      <td>12.43</td>\n",
       "      <td>7.57</td>\n",
       "    </tr>\n",
       "    <tr>\n",
       "      <th>2</th>\n",
       "      <td>Northeast</td>\n",
       "      <td>8.72</td>\n",
       "      <td>4.56</td>\n",
       "      <td>4.16</td>\n",
       "      <td>12.08</td>\n",
       "      <td>12.97</td>\n",
       "      <td>-0.89</td>\n",
       "    </tr>\n",
       "    <tr>\n",
       "      <th>3</th>\n",
       "      <td>West</td>\n",
       "      <td>7.84</td>\n",
       "      <td>4.51</td>\n",
       "      <td>3.33</td>\n",
       "      <td>19.61</td>\n",
       "      <td>13.10</td>\n",
       "      <td>6.51</td>\n",
       "    </tr>\n",
       "    <tr>\n",
       "      <th>4</th>\n",
       "      <td>South</td>\n",
       "      <td>9.57</td>\n",
       "      <td>6.46</td>\n",
       "      <td>3.11</td>\n",
       "      <td>22.90</td>\n",
       "      <td>15.24</td>\n",
       "      <td>7.66</td>\n",
       "    </tr>\n",
       "  </tbody>\n",
       "</table>\n",
       "</div>"
      ],
      "text/plain": [
       "        region  pct_trans_poor  pct_cis_poor  diff_x  pct_14_trans  \\\n",
       "0  Territories           15.38          5.26   10.12         11.54   \n",
       "1      Midwest            8.89          4.31    4.58         20.00   \n",
       "2    Northeast            8.72          4.56    4.16         12.08   \n",
       "3         West            7.84          4.51    3.33         19.61   \n",
       "4        South            9.57          6.46    3.11         22.90   \n",
       "\n",
       "   pct_14_cis  diff_y  \n",
       "0       12.12   -0.58  \n",
       "1       12.43    7.57  \n",
       "2       12.97   -0.89  \n",
       "3       13.10    6.51  \n",
       "4       15.24    7.66  "
      ]
     },
     "execution_count": 36,
     "metadata": {},
     "output_type": "execute_result"
    }
   ],
   "source": [
    "reg_phys"
   ]
  },
  {
   "cell_type": "code",
   "execution_count": 37,
   "metadata": {},
   "outputs": [],
   "source": [
    "health_diff = pd.merge(reg_phys, ment_region, on='region',how='outer')"
   ]
  },
  {
   "cell_type": "code",
   "execution_count": 38,
   "metadata": {},
   "outputs": [
    {
     "data": {
      "text/html": [
       "<div>\n",
       "<style scoped>\n",
       "    .dataframe tbody tr th:only-of-type {\n",
       "        vertical-align: middle;\n",
       "    }\n",
       "\n",
       "    .dataframe tbody tr th {\n",
       "        vertical-align: top;\n",
       "    }\n",
       "\n",
       "    .dataframe thead th {\n",
       "        text-align: right;\n",
       "    }\n",
       "</style>\n",
       "<table border=\"1\" class=\"dataframe\">\n",
       "  <thead>\n",
       "    <tr style=\"text-align: right;\">\n",
       "      <th></th>\n",
       "      <th>region</th>\n",
       "      <th>pct_trans_poor</th>\n",
       "      <th>pct_cis_poor</th>\n",
       "      <th>diff_x</th>\n",
       "      <th>pct_14_trans_x</th>\n",
       "      <th>pct_14_cis_x</th>\n",
       "      <th>diff_y</th>\n",
       "      <th>pct_14_trans_y</th>\n",
       "      <th>pct_14_cis_y</th>\n",
       "      <th>diff</th>\n",
       "    </tr>\n",
       "  </thead>\n",
       "  <tbody>\n",
       "    <tr>\n",
       "      <th>0</th>\n",
       "      <td>Territories</td>\n",
       "      <td>15.38</td>\n",
       "      <td>5.26</td>\n",
       "      <td>10.12</td>\n",
       "      <td>11.54</td>\n",
       "      <td>12.12</td>\n",
       "      <td>-0.58</td>\n",
       "      <td>7.69</td>\n",
       "      <td>12.17</td>\n",
       "      <td>-4.48</td>\n",
       "    </tr>\n",
       "    <tr>\n",
       "      <th>1</th>\n",
       "      <td>Midwest</td>\n",
       "      <td>8.89</td>\n",
       "      <td>4.31</td>\n",
       "      <td>4.58</td>\n",
       "      <td>20.00</td>\n",
       "      <td>12.43</td>\n",
       "      <td>7.57</td>\n",
       "      <td>26.11</td>\n",
       "      <td>11.07</td>\n",
       "      <td>15.04</td>\n",
       "    </tr>\n",
       "    <tr>\n",
       "      <th>2</th>\n",
       "      <td>Northeast</td>\n",
       "      <td>8.72</td>\n",
       "      <td>4.56</td>\n",
       "      <td>4.16</td>\n",
       "      <td>12.08</td>\n",
       "      <td>12.97</td>\n",
       "      <td>-0.89</td>\n",
       "      <td>30.20</td>\n",
       "      <td>10.86</td>\n",
       "      <td>19.34</td>\n",
       "    </tr>\n",
       "    <tr>\n",
       "      <th>3</th>\n",
       "      <td>West</td>\n",
       "      <td>7.84</td>\n",
       "      <td>4.51</td>\n",
       "      <td>3.33</td>\n",
       "      <td>19.61</td>\n",
       "      <td>13.10</td>\n",
       "      <td>6.51</td>\n",
       "      <td>32.94</td>\n",
       "      <td>11.31</td>\n",
       "      <td>21.63</td>\n",
       "    </tr>\n",
       "    <tr>\n",
       "      <th>4</th>\n",
       "      <td>South</td>\n",
       "      <td>9.57</td>\n",
       "      <td>6.46</td>\n",
       "      <td>3.11</td>\n",
       "      <td>22.90</td>\n",
       "      <td>15.24</td>\n",
       "      <td>7.66</td>\n",
       "      <td>28.99</td>\n",
       "      <td>12.69</td>\n",
       "      <td>16.30</td>\n",
       "    </tr>\n",
       "  </tbody>\n",
       "</table>\n",
       "</div>"
      ],
      "text/plain": [
       "        region  pct_trans_poor  pct_cis_poor  diff_x  pct_14_trans_x  \\\n",
       "0  Territories           15.38          5.26   10.12           11.54   \n",
       "1      Midwest            8.89          4.31    4.58           20.00   \n",
       "2    Northeast            8.72          4.56    4.16           12.08   \n",
       "3         West            7.84          4.51    3.33           19.61   \n",
       "4        South            9.57          6.46    3.11           22.90   \n",
       "\n",
       "   pct_14_cis_x  diff_y  pct_14_trans_y  pct_14_cis_y   diff  \n",
       "0         12.12   -0.58            7.69         12.17  -4.48  \n",
       "1         12.43    7.57           26.11         11.07  15.04  \n",
       "2         12.97   -0.89           30.20         10.86  19.34  \n",
       "3         13.10    6.51           32.94         11.31  21.63  \n",
       "4         15.24    7.66           28.99         12.69  16.30  "
      ]
     },
     "execution_count": 38,
     "metadata": {},
     "output_type": "execute_result"
    }
   ],
   "source": [
    "health_diff.head()"
   ]
  },
  {
   "cell_type": "code",
   "execution_count": 39,
   "metadata": {},
   "outputs": [],
   "source": [
    "health_diff.columns = ['region','poor_fair_gen_health_trans','poor_fair_gen_health_cis','poor_fair_gen_health_diff',\n",
    "                      'poor_phys_health_trans','poor_phys_health_cis','poor_phys_health_diff','poor_ment_health_trans',\n",
    "                      'poor_ment_health_cis','poor_ment_health_diff']"
   ]
  },
  {
   "cell_type": "code",
   "execution_count": 40,
   "metadata": {
    "scrolled": true
   },
   "outputs": [
    {
     "data": {
      "text/html": [
       "<div>\n",
       "<style scoped>\n",
       "    .dataframe tbody tr th:only-of-type {\n",
       "        vertical-align: middle;\n",
       "    }\n",
       "\n",
       "    .dataframe tbody tr th {\n",
       "        vertical-align: top;\n",
       "    }\n",
       "\n",
       "    .dataframe thead th {\n",
       "        text-align: right;\n",
       "    }\n",
       "</style>\n",
       "<table border=\"1\" class=\"dataframe\">\n",
       "  <thead>\n",
       "    <tr style=\"text-align: right;\">\n",
       "      <th></th>\n",
       "      <th>region</th>\n",
       "      <th>poor_fair_gen_health_trans</th>\n",
       "      <th>poor_fair_gen_health_cis</th>\n",
       "      <th>poor_fair_gen_health_diff</th>\n",
       "      <th>poor_phys_health_trans</th>\n",
       "      <th>poor_phys_health_cis</th>\n",
       "      <th>poor_phys_health_diff</th>\n",
       "      <th>poor_ment_health_trans</th>\n",
       "      <th>poor_ment_health_cis</th>\n",
       "      <th>poor_ment_health_diff</th>\n",
       "    </tr>\n",
       "  </thead>\n",
       "  <tbody>\n",
       "    <tr>\n",
       "      <th>0</th>\n",
       "      <td>Territories</td>\n",
       "      <td>15.38</td>\n",
       "      <td>5.26</td>\n",
       "      <td>10.12</td>\n",
       "      <td>11.54</td>\n",
       "      <td>12.12</td>\n",
       "      <td>-0.58</td>\n",
       "      <td>7.69</td>\n",
       "      <td>12.17</td>\n",
       "      <td>-4.48</td>\n",
       "    </tr>\n",
       "    <tr>\n",
       "      <th>1</th>\n",
       "      <td>Midwest</td>\n",
       "      <td>8.89</td>\n",
       "      <td>4.31</td>\n",
       "      <td>4.58</td>\n",
       "      <td>20.00</td>\n",
       "      <td>12.43</td>\n",
       "      <td>7.57</td>\n",
       "      <td>26.11</td>\n",
       "      <td>11.07</td>\n",
       "      <td>15.04</td>\n",
       "    </tr>\n",
       "    <tr>\n",
       "      <th>2</th>\n",
       "      <td>Northeast</td>\n",
       "      <td>8.72</td>\n",
       "      <td>4.56</td>\n",
       "      <td>4.16</td>\n",
       "      <td>12.08</td>\n",
       "      <td>12.97</td>\n",
       "      <td>-0.89</td>\n",
       "      <td>30.20</td>\n",
       "      <td>10.86</td>\n",
       "      <td>19.34</td>\n",
       "    </tr>\n",
       "    <tr>\n",
       "      <th>3</th>\n",
       "      <td>West</td>\n",
       "      <td>7.84</td>\n",
       "      <td>4.51</td>\n",
       "      <td>3.33</td>\n",
       "      <td>19.61</td>\n",
       "      <td>13.10</td>\n",
       "      <td>6.51</td>\n",
       "      <td>32.94</td>\n",
       "      <td>11.31</td>\n",
       "      <td>21.63</td>\n",
       "    </tr>\n",
       "    <tr>\n",
       "      <th>4</th>\n",
       "      <td>South</td>\n",
       "      <td>9.57</td>\n",
       "      <td>6.46</td>\n",
       "      <td>3.11</td>\n",
       "      <td>22.90</td>\n",
       "      <td>15.24</td>\n",
       "      <td>7.66</td>\n",
       "      <td>28.99</td>\n",
       "      <td>12.69</td>\n",
       "      <td>16.30</td>\n",
       "    </tr>\n",
       "  </tbody>\n",
       "</table>\n",
       "</div>"
      ],
      "text/plain": [
       "        region  poor_fair_gen_health_trans  poor_fair_gen_health_cis  \\\n",
       "0  Territories                       15.38                      5.26   \n",
       "1      Midwest                        8.89                      4.31   \n",
       "2    Northeast                        8.72                      4.56   \n",
       "3         West                        7.84                      4.51   \n",
       "4        South                        9.57                      6.46   \n",
       "\n",
       "   poor_fair_gen_health_diff  poor_phys_health_trans  poor_phys_health_cis  \\\n",
       "0                      10.12                   11.54                 12.12   \n",
       "1                       4.58                   20.00                 12.43   \n",
       "2                       4.16                   12.08                 12.97   \n",
       "3                       3.33                   19.61                 13.10   \n",
       "4                       3.11                   22.90                 15.24   \n",
       "\n",
       "   poor_phys_health_diff  poor_ment_health_trans  poor_ment_health_cis  \\\n",
       "0                  -0.58                    7.69                 12.17   \n",
       "1                   7.57                   26.11                 11.07   \n",
       "2                  -0.89                   30.20                 10.86   \n",
       "3                   6.51                   32.94                 11.31   \n",
       "4                   7.66                   28.99                 12.69   \n",
       "\n",
       "   poor_ment_health_diff  \n",
       "0                  -4.48  \n",
       "1                  15.04  \n",
       "2                  19.34  \n",
       "3                  21.63  \n",
       "4                  16.30  "
      ]
     },
     "execution_count": 40,
     "metadata": {},
     "output_type": "execute_result"
    }
   ],
   "source": [
    "health_diff"
   ]
  },
  {
   "cell_type": "code",
   "execution_count": 41,
   "metadata": {},
   "outputs": [],
   "source": [
    "health_diff.to_csv('../data/health_diff.csv',index=False)"
   ]
  },
  {
   "cell_type": "code",
   "execution_count": 42,
   "metadata": {},
   "outputs": [],
   "source": [
    "health_diff_viz = health_diff[['poor_fair_gen_health_trans','poor_fair_gen_health_cis', 'poor_phys_health_trans','poor_phys_health_cis','poor_ment_health_trans','poor_ment_health_cis']]"
   ]
  },
  {
   "cell_type": "markdown",
   "metadata": {},
   "source": [
    "## What factors might contribute to those health disparities?"
   ]
  },
  {
   "cell_type": "markdown",
   "metadata": {},
   "source": [
    "### What age ranges do cis and trans people fall in?"
   ]
  },
  {
   "cell_type": "code",
   "execution_count": 43,
   "metadata": {
    "scrolled": false
   },
   "outputs": [],
   "source": [
    "trans_age_grouped = cdc_trans.groupby(['region', '_AGE_G']).size()"
   ]
  },
  {
   "cell_type": "code",
   "execution_count": 44,
   "metadata": {},
   "outputs": [
    {
     "data": {
      "text/html": [
       "<div>\n",
       "<style scoped>\n",
       "    .dataframe tbody tr th:only-of-type {\n",
       "        vertical-align: middle;\n",
       "    }\n",
       "\n",
       "    .dataframe tbody tr th {\n",
       "        vertical-align: top;\n",
       "    }\n",
       "\n",
       "    .dataframe thead th {\n",
       "        text-align: right;\n",
       "    }\n",
       "</style>\n",
       "<table border=\"1\" class=\"dataframe\">\n",
       "  <thead>\n",
       "    <tr style=\"text-align: right;\">\n",
       "      <th></th>\n",
       "      <th>region</th>\n",
       "      <th>age_range</th>\n",
       "      <th>trans_pct</th>\n",
       "    </tr>\n",
       "  </thead>\n",
       "  <tbody>\n",
       "    <tr>\n",
       "      <th>0</th>\n",
       "      <td>Midwest</td>\n",
       "      <td>Age 18 to 24</td>\n",
       "      <td>21.666667</td>\n",
       "    </tr>\n",
       "    <tr>\n",
       "      <th>1</th>\n",
       "      <td>Midwest</td>\n",
       "      <td>Age 25 to 34</td>\n",
       "      <td>15.555556</td>\n",
       "    </tr>\n",
       "    <tr>\n",
       "      <th>2</th>\n",
       "      <td>Midwest</td>\n",
       "      <td>Age 35 to 44</td>\n",
       "      <td>10.555556</td>\n",
       "    </tr>\n",
       "    <tr>\n",
       "      <th>3</th>\n",
       "      <td>Midwest</td>\n",
       "      <td>Age 45 to 54</td>\n",
       "      <td>8.333333</td>\n",
       "    </tr>\n",
       "    <tr>\n",
       "      <th>4</th>\n",
       "      <td>Midwest</td>\n",
       "      <td>Age 55 to 64</td>\n",
       "      <td>18.888889</td>\n",
       "    </tr>\n",
       "  </tbody>\n",
       "</table>\n",
       "</div>"
      ],
      "text/plain": [
       "    region     age_range  trans_pct\n",
       "0  Midwest  Age 18 to 24  21.666667\n",
       "1  Midwest  Age 25 to 34  15.555556\n",
       "2  Midwest  Age 35 to 44  10.555556\n",
       "3  Midwest  Age 45 to 54   8.333333\n",
       "4  Midwest  Age 55 to 64  18.888889"
      ]
     },
     "execution_count": 44,
     "metadata": {},
     "output_type": "execute_result"
    }
   ],
   "source": [
    "trans_age_pct = trans_age_grouped.groupby(level=0).apply(lambda x:\n",
    "                                                 100 * x / float(x.sum()))\n",
    "trans_age_pct = trans_age_pct.reset_index()\n",
    "trans_age_pct.columns = ['region','age_range','trans_pct']\n",
    "trans_age_pct.head()"
   ]
  },
  {
   "cell_type": "code",
   "execution_count": 45,
   "metadata": {},
   "outputs": [
    {
     "data": {
      "text/html": [
       "<div>\n",
       "<style scoped>\n",
       "    .dataframe tbody tr th:only-of-type {\n",
       "        vertical-align: middle;\n",
       "    }\n",
       "\n",
       "    .dataframe tbody tr th {\n",
       "        vertical-align: top;\n",
       "    }\n",
       "\n",
       "    .dataframe thead th {\n",
       "        text-align: right;\n",
       "    }\n",
       "</style>\n",
       "<table border=\"1\" class=\"dataframe\">\n",
       "  <thead>\n",
       "    <tr style=\"text-align: right;\">\n",
       "      <th></th>\n",
       "      <th>region</th>\n",
       "      <th>age_range</th>\n",
       "      <th>cis_pct</th>\n",
       "    </tr>\n",
       "  </thead>\n",
       "  <tbody>\n",
       "    <tr>\n",
       "      <th>0</th>\n",
       "      <td>Midwest</td>\n",
       "      <td>Age 18 to 24</td>\n",
       "      <td>6.077208</td>\n",
       "    </tr>\n",
       "    <tr>\n",
       "      <th>1</th>\n",
       "      <td>Midwest</td>\n",
       "      <td>Age 25 to 34</td>\n",
       "      <td>9.804336</td>\n",
       "    </tr>\n",
       "    <tr>\n",
       "      <th>2</th>\n",
       "      <td>Midwest</td>\n",
       "      <td>Age 35 to 44</td>\n",
       "      <td>11.940772</td>\n",
       "    </tr>\n",
       "    <tr>\n",
       "      <th>3</th>\n",
       "      <td>Midwest</td>\n",
       "      <td>Age 45 to 54</td>\n",
       "      <td>14.278160</td>\n",
       "    </tr>\n",
       "    <tr>\n",
       "      <th>4</th>\n",
       "      <td>Midwest</td>\n",
       "      <td>Age 55 to 64</td>\n",
       "      <td>21.023797</td>\n",
       "    </tr>\n",
       "  </tbody>\n",
       "</table>\n",
       "</div>"
      ],
      "text/plain": [
       "    region     age_range    cis_pct\n",
       "0  Midwest  Age 18 to 24   6.077208\n",
       "1  Midwest  Age 25 to 34   9.804336\n",
       "2  Midwest  Age 35 to 44  11.940772\n",
       "3  Midwest  Age 45 to 54  14.278160\n",
       "4  Midwest  Age 55 to 64  21.023797"
      ]
     },
     "execution_count": 45,
     "metadata": {},
     "output_type": "execute_result"
    }
   ],
   "source": [
    "cis_age_grouped = cdc_cis.groupby(['region', '_AGE_G']).size()\n",
    "cis_age_pct = cis_age_grouped.groupby(level=0).apply(lambda x:\n",
    "                                                 100 * x / float(x.sum()))\n",
    "cis_age_pct = cis_age_pct.reset_index()\n",
    "cis_age_pct.columns = ['region','age_range','cis_pct']\n",
    "cis_age_pct.head()"
   ]
  },
  {
   "cell_type": "code",
   "execution_count": 46,
   "metadata": {},
   "outputs": [
    {
     "data": {
      "text/html": [
       "<div>\n",
       "<style scoped>\n",
       "    .dataframe tbody tr th:only-of-type {\n",
       "        vertical-align: middle;\n",
       "    }\n",
       "\n",
       "    .dataframe tbody tr th {\n",
       "        vertical-align: top;\n",
       "    }\n",
       "\n",
       "    .dataframe thead th {\n",
       "        text-align: right;\n",
       "    }\n",
       "</style>\n",
       "<table border=\"1\" class=\"dataframe\">\n",
       "  <thead>\n",
       "    <tr style=\"text-align: right;\">\n",
       "      <th></th>\n",
       "      <th>region</th>\n",
       "      <th>age_range</th>\n",
       "      <th>trans_pct</th>\n",
       "      <th>cis_pct</th>\n",
       "    </tr>\n",
       "  </thead>\n",
       "  <tbody>\n",
       "    <tr>\n",
       "      <th>0</th>\n",
       "      <td>Midwest</td>\n",
       "      <td>Age 18 to 24</td>\n",
       "      <td>21.666667</td>\n",
       "      <td>6.077208</td>\n",
       "    </tr>\n",
       "    <tr>\n",
       "      <th>1</th>\n",
       "      <td>Midwest</td>\n",
       "      <td>Age 25 to 34</td>\n",
       "      <td>15.555556</td>\n",
       "      <td>9.804336</td>\n",
       "    </tr>\n",
       "    <tr>\n",
       "      <th>2</th>\n",
       "      <td>Midwest</td>\n",
       "      <td>Age 35 to 44</td>\n",
       "      <td>10.555556</td>\n",
       "      <td>11.940772</td>\n",
       "    </tr>\n",
       "    <tr>\n",
       "      <th>3</th>\n",
       "      <td>Midwest</td>\n",
       "      <td>Age 45 to 54</td>\n",
       "      <td>8.333333</td>\n",
       "      <td>14.278160</td>\n",
       "    </tr>\n",
       "    <tr>\n",
       "      <th>4</th>\n",
       "      <td>Midwest</td>\n",
       "      <td>Age 55 to 64</td>\n",
       "      <td>18.888889</td>\n",
       "      <td>21.023797</td>\n",
       "    </tr>\n",
       "    <tr>\n",
       "      <th>5</th>\n",
       "      <td>Midwest</td>\n",
       "      <td>Age 65 and older</td>\n",
       "      <td>25.000000</td>\n",
       "      <td>36.875727</td>\n",
       "    </tr>\n",
       "    <tr>\n",
       "      <th>6</th>\n",
       "      <td>Northeast</td>\n",
       "      <td>Age 18 to 24</td>\n",
       "      <td>14.093960</td>\n",
       "      <td>4.464107</td>\n",
       "    </tr>\n",
       "    <tr>\n",
       "      <th>7</th>\n",
       "      <td>Northeast</td>\n",
       "      <td>Age 25 to 34</td>\n",
       "      <td>20.134228</td>\n",
       "      <td>8.528614</td>\n",
       "    </tr>\n",
       "    <tr>\n",
       "      <th>8</th>\n",
       "      <td>Northeast</td>\n",
       "      <td>Age 35 to 44</td>\n",
       "      <td>14.765101</td>\n",
       "      <td>10.041387</td>\n",
       "    </tr>\n",
       "    <tr>\n",
       "      <th>9</th>\n",
       "      <td>Northeast</td>\n",
       "      <td>Age 45 to 54</td>\n",
       "      <td>14.093960</td>\n",
       "      <td>15.407450</td>\n",
       "    </tr>\n",
       "    <tr>\n",
       "      <th>10</th>\n",
       "      <td>Northeast</td>\n",
       "      <td>Age 55 to 64</td>\n",
       "      <td>16.107383</td>\n",
       "      <td>22.263451</td>\n",
       "    </tr>\n",
       "    <tr>\n",
       "      <th>11</th>\n",
       "      <td>Northeast</td>\n",
       "      <td>Age 65 and older</td>\n",
       "      <td>20.805369</td>\n",
       "      <td>39.294991</td>\n",
       "    </tr>\n",
       "    <tr>\n",
       "      <th>12</th>\n",
       "      <td>South</td>\n",
       "      <td>Age 18 to 24</td>\n",
       "      <td>19.130435</td>\n",
       "      <td>4.997377</td>\n",
       "    </tr>\n",
       "    <tr>\n",
       "      <th>13</th>\n",
       "      <td>South</td>\n",
       "      <td>Age 25 to 34</td>\n",
       "      <td>15.942029</td>\n",
       "      <td>9.107348</td>\n",
       "    </tr>\n",
       "    <tr>\n",
       "      <th>14</th>\n",
       "      <td>South</td>\n",
       "      <td>Age 35 to 44</td>\n",
       "      <td>13.333333</td>\n",
       "      <td>11.045129</td>\n",
       "    </tr>\n",
       "    <tr>\n",
       "      <th>15</th>\n",
       "      <td>South</td>\n",
       "      <td>Age 45 to 54</td>\n",
       "      <td>11.304348</td>\n",
       "      <td>14.728699</td>\n",
       "    </tr>\n",
       "    <tr>\n",
       "      <th>16</th>\n",
       "      <td>South</td>\n",
       "      <td>Age 55 to 64</td>\n",
       "      <td>16.231884</td>\n",
       "      <td>20.595622</td>\n",
       "    </tr>\n",
       "    <tr>\n",
       "      <th>17</th>\n",
       "      <td>South</td>\n",
       "      <td>Age 65 and older</td>\n",
       "      <td>24.057971</td>\n",
       "      <td>39.525824</td>\n",
       "    </tr>\n",
       "    <tr>\n",
       "      <th>18</th>\n",
       "      <td>Territories</td>\n",
       "      <td>Age 18 to 24</td>\n",
       "      <td>7.692308</td>\n",
       "      <td>9.517045</td>\n",
       "    </tr>\n",
       "    <tr>\n",
       "      <th>19</th>\n",
       "      <td>Territories</td>\n",
       "      <td>Age 25 to 34</td>\n",
       "      <td>11.538462</td>\n",
       "      <td>15.861742</td>\n",
       "    </tr>\n",
       "    <tr>\n",
       "      <th>20</th>\n",
       "      <td>Territories</td>\n",
       "      <td>Age 35 to 44</td>\n",
       "      <td>15.384615</td>\n",
       "      <td>15.056818</td>\n",
       "    </tr>\n",
       "    <tr>\n",
       "      <th>21</th>\n",
       "      <td>Territories</td>\n",
       "      <td>Age 45 to 54</td>\n",
       "      <td>15.384615</td>\n",
       "      <td>19.223485</td>\n",
       "    </tr>\n",
       "    <tr>\n",
       "      <th>22</th>\n",
       "      <td>Territories</td>\n",
       "      <td>Age 55 to 64</td>\n",
       "      <td>23.076923</td>\n",
       "      <td>18.702652</td>\n",
       "    </tr>\n",
       "    <tr>\n",
       "      <th>23</th>\n",
       "      <td>Territories</td>\n",
       "      <td>Age 65 and older</td>\n",
       "      <td>26.923077</td>\n",
       "      <td>21.638258</td>\n",
       "    </tr>\n",
       "    <tr>\n",
       "      <th>24</th>\n",
       "      <td>West</td>\n",
       "      <td>Age 18 to 24</td>\n",
       "      <td>15.686275</td>\n",
       "      <td>6.061529</td>\n",
       "    </tr>\n",
       "    <tr>\n",
       "      <th>25</th>\n",
       "      <td>West</td>\n",
       "      <td>Age 25 to 34</td>\n",
       "      <td>19.215686</td>\n",
       "      <td>10.680400</td>\n",
       "    </tr>\n",
       "    <tr>\n",
       "      <th>26</th>\n",
       "      <td>West</td>\n",
       "      <td>Age 35 to 44</td>\n",
       "      <td>14.509804</td>\n",
       "      <td>13.053258</td>\n",
       "    </tr>\n",
       "    <tr>\n",
       "      <th>27</th>\n",
       "      <td>West</td>\n",
       "      <td>Age 45 to 54</td>\n",
       "      <td>12.549020</td>\n",
       "      <td>14.363996</td>\n",
       "    </tr>\n",
       "    <tr>\n",
       "      <th>28</th>\n",
       "      <td>West</td>\n",
       "      <td>Age 55 to 64</td>\n",
       "      <td>13.725490</td>\n",
       "      <td>19.513928</td>\n",
       "    </tr>\n",
       "    <tr>\n",
       "      <th>29</th>\n",
       "      <td>West</td>\n",
       "      <td>Age 65 and older</td>\n",
       "      <td>24.313725</td>\n",
       "      <td>36.326890</td>\n",
       "    </tr>\n",
       "  </tbody>\n",
       "</table>\n",
       "</div>"
      ],
      "text/plain": [
       "         region         age_range  trans_pct    cis_pct\n",
       "0       Midwest      Age 18 to 24  21.666667   6.077208\n",
       "1       Midwest      Age 25 to 34  15.555556   9.804336\n",
       "2       Midwest      Age 35 to 44  10.555556  11.940772\n",
       "3       Midwest      Age 45 to 54   8.333333  14.278160\n",
       "4       Midwest      Age 55 to 64  18.888889  21.023797\n",
       "5       Midwest  Age 65 and older  25.000000  36.875727\n",
       "6     Northeast      Age 18 to 24  14.093960   4.464107\n",
       "7     Northeast      Age 25 to 34  20.134228   8.528614\n",
       "8     Northeast      Age 35 to 44  14.765101  10.041387\n",
       "9     Northeast      Age 45 to 54  14.093960  15.407450\n",
       "10    Northeast      Age 55 to 64  16.107383  22.263451\n",
       "11    Northeast  Age 65 and older  20.805369  39.294991\n",
       "12        South      Age 18 to 24  19.130435   4.997377\n",
       "13        South      Age 25 to 34  15.942029   9.107348\n",
       "14        South      Age 35 to 44  13.333333  11.045129\n",
       "15        South      Age 45 to 54  11.304348  14.728699\n",
       "16        South      Age 55 to 64  16.231884  20.595622\n",
       "17        South  Age 65 and older  24.057971  39.525824\n",
       "18  Territories      Age 18 to 24   7.692308   9.517045\n",
       "19  Territories      Age 25 to 34  11.538462  15.861742\n",
       "20  Territories      Age 35 to 44  15.384615  15.056818\n",
       "21  Territories      Age 45 to 54  15.384615  19.223485\n",
       "22  Territories      Age 55 to 64  23.076923  18.702652\n",
       "23  Territories  Age 65 and older  26.923077  21.638258\n",
       "24         West      Age 18 to 24  15.686275   6.061529\n",
       "25         West      Age 25 to 34  19.215686  10.680400\n",
       "26         West      Age 35 to 44  14.509804  13.053258\n",
       "27         West      Age 45 to 54  12.549020  14.363996\n",
       "28         West      Age 55 to 64  13.725490  19.513928\n",
       "29         West  Age 65 and older  24.313725  36.326890"
      ]
     },
     "execution_count": 46,
     "metadata": {},
     "output_type": "execute_result"
    }
   ],
   "source": [
    "ages_merged = pd.merge(trans_age_pct,cis_age_pct, on=['region','age_range'],how='outer')\n",
    "ages_merged"
   ]
  },
  {
   "cell_type": "markdown",
   "metadata": {},
   "source": [
    "### What percentage of cis and trans people have health coverage?"
   ]
  },
  {
   "cell_type": "code",
   "execution_count": 47,
   "metadata": {},
   "outputs": [
    {
     "data": {
      "text/html": [
       "<div>\n",
       "<style scoped>\n",
       "    .dataframe tbody tr th:only-of-type {\n",
       "        vertical-align: middle;\n",
       "    }\n",
       "\n",
       "    .dataframe tbody tr th {\n",
       "        vertical-align: top;\n",
       "    }\n",
       "\n",
       "    .dataframe thead th {\n",
       "        text-align: right;\n",
       "    }\n",
       "</style>\n",
       "<table border=\"1\" class=\"dataframe\">\n",
       "  <thead>\n",
       "    <tr style=\"text-align: right;\">\n",
       "      <th></th>\n",
       "      <th>region</th>\n",
       "      <th>pct</th>\n",
       "    </tr>\n",
       "  </thead>\n",
       "  <tbody>\n",
       "    <tr>\n",
       "      <th>0</th>\n",
       "      <td>Midwest</td>\n",
       "      <td>12.686567</td>\n",
       "    </tr>\n",
       "    <tr>\n",
       "      <th>2</th>\n",
       "      <td>Northeast</td>\n",
       "      <td>14.678899</td>\n",
       "    </tr>\n",
       "    <tr>\n",
       "      <th>4</th>\n",
       "      <td>South</td>\n",
       "      <td>21.705426</td>\n",
       "    </tr>\n",
       "    <tr>\n",
       "      <th>6</th>\n",
       "      <td>Territories</td>\n",
       "      <td>15.789474</td>\n",
       "    </tr>\n",
       "    <tr>\n",
       "      <th>8</th>\n",
       "      <td>West</td>\n",
       "      <td>12.631579</td>\n",
       "    </tr>\n",
       "  </tbody>\n",
       "</table>\n",
       "</div>"
      ],
      "text/plain": [
       "        region        pct\n",
       "0      Midwest  12.686567\n",
       "2    Northeast  14.678899\n",
       "4        South  21.705426\n",
       "6  Territories  15.789474\n",
       "8         West  12.631579"
      ]
     },
     "execution_count": 47,
     "metadata": {},
     "output_type": "execute_result"
    }
   ],
   "source": [
    "trans_health_coverage = cdc_trans.groupby(['region', '_HCVU651']).size()\n",
    "trans_health_coverage_df = trans_health_coverage.groupby(level=0).apply(lambda x:\n",
    "                                                 100 * x / float(x.sum()))\n",
    "trans_health_coverage_df = trans_health_coverage_df.reset_index()\n",
    "trans_health_coverage_df.columns = ['region','health_coverage_status','pct']\n",
    "trans_health_coverage_df = trans_health_coverage_df.loc[trans_health_coverage_df.health_coverage_status.isin(['Do not have health care coverage'])]\n",
    "trans_no_coverage = trans_health_coverage_df[['region','pct']]\n",
    "trans_no_coverage"
   ]
  },
  {
   "cell_type": "code",
   "execution_count": 48,
   "metadata": {},
   "outputs": [
    {
     "data": {
      "text/html": [
       "<div>\n",
       "<style scoped>\n",
       "    .dataframe tbody tr th:only-of-type {\n",
       "        vertical-align: middle;\n",
       "    }\n",
       "\n",
       "    .dataframe tbody tr th {\n",
       "        vertical-align: top;\n",
       "    }\n",
       "\n",
       "    .dataframe thead th {\n",
       "        text-align: right;\n",
       "    }\n",
       "</style>\n",
       "<table border=\"1\" class=\"dataframe\">\n",
       "  <thead>\n",
       "    <tr style=\"text-align: right;\">\n",
       "      <th></th>\n",
       "      <th>region</th>\n",
       "      <th>pct</th>\n",
       "    </tr>\n",
       "  </thead>\n",
       "  <tbody>\n",
       "    <tr>\n",
       "      <th>0</th>\n",
       "      <td>Midwest</td>\n",
       "      <td>9.421426</td>\n",
       "    </tr>\n",
       "    <tr>\n",
       "      <th>2</th>\n",
       "      <td>Northeast</td>\n",
       "      <td>8.575166</td>\n",
       "    </tr>\n",
       "    <tr>\n",
       "      <th>4</th>\n",
       "      <td>South</td>\n",
       "      <td>16.203442</td>\n",
       "    </tr>\n",
       "    <tr>\n",
       "      <th>6</th>\n",
       "      <td>Territories</td>\n",
       "      <td>18.165138</td>\n",
       "    </tr>\n",
       "    <tr>\n",
       "      <th>8</th>\n",
       "      <td>West</td>\n",
       "      <td>12.166051</td>\n",
       "    </tr>\n",
       "  </tbody>\n",
       "</table>\n",
       "</div>"
      ],
      "text/plain": [
       "        region        pct\n",
       "0      Midwest   9.421426\n",
       "2    Northeast   8.575166\n",
       "4        South  16.203442\n",
       "6  Territories  18.165138\n",
       "8         West  12.166051"
      ]
     },
     "execution_count": 48,
     "metadata": {},
     "output_type": "execute_result"
    }
   ],
   "source": [
    "cis_health_coverage = cdc_cis.groupby(['region', '_HCVU651']).size()\n",
    "cis_health_coverage_df = cis_health_coverage.groupby(level=0).apply(lambda x:\n",
    "                                                 100 * x / float(x.sum()))\n",
    "cis_health_coverage_df = cis_health_coverage_df.reset_index()\n",
    "cis_health_coverage_df.columns = ['region','health_coverage_status','pct']\n",
    "cis_health_coverage_df = cis_health_coverage_df.loc[cis_health_coverage_df.health_coverage_status.isin(['Do not have health care coverage'])]\n",
    "cis_no_coverage = cis_health_coverage_df[['region','pct']]\n",
    "cis_no_coverage"
   ]
  },
  {
   "cell_type": "code",
   "execution_count": 49,
   "metadata": {
    "scrolled": true
   },
   "outputs": [
    {
     "data": {
      "text/html": [
       "<div>\n",
       "<style scoped>\n",
       "    .dataframe tbody tr th:only-of-type {\n",
       "        vertical-align: middle;\n",
       "    }\n",
       "\n",
       "    .dataframe tbody tr th {\n",
       "        vertical-align: top;\n",
       "    }\n",
       "\n",
       "    .dataframe thead th {\n",
       "        text-align: right;\n",
       "    }\n",
       "</style>\n",
       "<table border=\"1\" class=\"dataframe\">\n",
       "  <thead>\n",
       "    <tr style=\"text-align: right;\">\n",
       "      <th></th>\n",
       "      <th>region</th>\n",
       "      <th>pct_trans</th>\n",
       "      <th>pct_cis</th>\n",
       "      <th>diff</th>\n",
       "    </tr>\n",
       "  </thead>\n",
       "  <tbody>\n",
       "    <tr>\n",
       "      <th>0</th>\n",
       "      <td>Midwest</td>\n",
       "      <td>12.686567</td>\n",
       "      <td>9.421426</td>\n",
       "      <td>3.265142</td>\n",
       "    </tr>\n",
       "    <tr>\n",
       "      <th>1</th>\n",
       "      <td>Northeast</td>\n",
       "      <td>14.678899</td>\n",
       "      <td>8.575166</td>\n",
       "      <td>6.103733</td>\n",
       "    </tr>\n",
       "    <tr>\n",
       "      <th>2</th>\n",
       "      <td>South</td>\n",
       "      <td>21.705426</td>\n",
       "      <td>16.203442</td>\n",
       "      <td>5.501984</td>\n",
       "    </tr>\n",
       "    <tr>\n",
       "      <th>3</th>\n",
       "      <td>Territories</td>\n",
       "      <td>15.789474</td>\n",
       "      <td>18.165138</td>\n",
       "      <td>-2.375664</td>\n",
       "    </tr>\n",
       "    <tr>\n",
       "      <th>4</th>\n",
       "      <td>West</td>\n",
       "      <td>12.631579</td>\n",
       "      <td>12.166051</td>\n",
       "      <td>0.465528</td>\n",
       "    </tr>\n",
       "  </tbody>\n",
       "</table>\n",
       "</div>"
      ],
      "text/plain": [
       "        region  pct_trans    pct_cis      diff\n",
       "0      Midwest  12.686567   9.421426  3.265142\n",
       "1    Northeast  14.678899   8.575166  6.103733\n",
       "2        South  21.705426  16.203442  5.501984\n",
       "3  Territories  15.789474  18.165138 -2.375664\n",
       "4         West  12.631579  12.166051  0.465528"
      ]
     },
     "execution_count": 49,
     "metadata": {},
     "output_type": "execute_result"
    }
   ],
   "source": [
    "no_health_coverage = pd.merge(trans_no_coverage,cis_no_coverage,on='region')\n",
    "no_health_coverage.columns = ['region','pct_trans','pct_cis']\n",
    "no_health_coverage['diff']=no_health_coverage.pct_trans - no_health_coverage.pct_cis\n",
    "no_health_coverage"
   ]
  },
  {
   "cell_type": "code",
   "execution_count": 50,
   "metadata": {},
   "outputs": [],
   "source": [
    "no_health_coverage = no_health_coverage.sort_values('diff', ascending=False)"
   ]
  },
  {
   "cell_type": "code",
   "execution_count": 51,
   "metadata": {},
   "outputs": [
    {
     "data": {
      "image/png": "[encoded data removed]",
      "text/plain": [
       "<Figure size 720x720 with 1 Axes>"
      ]
     },
     "metadata": {
      "needs_background": "light"
     },
     "output_type": "display_data"
    }
   ],
   "source": [
    "fig, ax1 = plt.subplots(figsize=(10, 10))\n",
    "tidy = no_health_coverage.melt(id_vars='region').rename(columns=str.title)\n",
    "sns.barplot(x='Region', y='Value', hue='Variable', data=tidy, ax=ax1)\n",
    "sns.despine(fig)"
   ]
  },
  {
   "cell_type": "markdown",
   "metadata": {},
   "source": [
    "### Routine Checkups"
   ]
  },
  {
   "cell_type": "code",
   "execution_count": 52,
   "metadata": {},
   "outputs": [],
   "source": [
    "checkup_trans = []\n",
    "checkup_cis = []"
   ]
  },
  {
   "cell_type": "code",
   "execution_count": 53,
   "metadata": {},
   "outputs": [],
   "source": [
    "for item in regions:\n",
    "    trans = 0\n",
    "    total_trans = 0\n",
    "    cis = 0\n",
    "    total_cis = 0\n",
    "    region_df = cdc.loc[cdc.region == item]\n",
    "    \n",
    "    for ind,row in region_df.iterrows():\n",
    "        if row.trans == 'Transgender' and row.checkup == 'Within past year':\n",
    "            total_trans += 1\n",
    "        elif row.trans == 'Transgender' and row.checkup == 'Not within past year':\n",
    "            total_trans += 1\n",
    "            trans += 1\n",
    "        elif row.trans == 'Cisgender' and row.checkup == 'Within past year':\n",
    "            total_cis += 1\n",
    "        elif row.trans == 'Cisgender' and row.checkup == 'Not within past year':\n",
    "            total_cis += 1\n",
    "            cis += 1\n",
    "\n",
    "    checkup_trans.append(round((trans/total_trans)*100,2))\n",
    "    checkup_cis.append(round((cis/total_cis)*100,2))\n",
    "\n",
    "checkup_region = pd.DataFrame({'region':regions, 'no_checkup_trans':checkup_trans,\n",
    "                                'no_checkup_cis':checkup_cis})"
   ]
  },
  {
   "cell_type": "code",
   "execution_count": 54,
   "metadata": {},
   "outputs": [
    {
     "data": {
      "text/html": [
       "<div>\n",
       "<style scoped>\n",
       "    .dataframe tbody tr th:only-of-type {\n",
       "        vertical-align: middle;\n",
       "    }\n",
       "\n",
       "    .dataframe tbody tr th {\n",
       "        vertical-align: top;\n",
       "    }\n",
       "\n",
       "    .dataframe thead th {\n",
       "        text-align: right;\n",
       "    }\n",
       "</style>\n",
       "<table border=\"1\" class=\"dataframe\">\n",
       "  <thead>\n",
       "    <tr style=\"text-align: right;\">\n",
       "      <th></th>\n",
       "      <th>region</th>\n",
       "      <th>no_checkup_trans</th>\n",
       "      <th>no_checkup_cis</th>\n",
       "    </tr>\n",
       "  </thead>\n",
       "  <tbody>\n",
       "    <tr>\n",
       "      <th>0</th>\n",
       "      <td>West</td>\n",
       "      <td>15.42</td>\n",
       "      <td>12.71</td>\n",
       "    </tr>\n",
       "    <tr>\n",
       "      <th>1</th>\n",
       "      <td>Northeast</td>\n",
       "      <td>10.81</td>\n",
       "      <td>6.91</td>\n",
       "    </tr>\n",
       "    <tr>\n",
       "      <th>2</th>\n",
       "      <td>South</td>\n",
       "      <td>11.76</td>\n",
       "      <td>8.97</td>\n",
       "    </tr>\n",
       "    <tr>\n",
       "      <th>3</th>\n",
       "      <td>Midwest</td>\n",
       "      <td>13.89</td>\n",
       "      <td>9.94</td>\n",
       "    </tr>\n",
       "    <tr>\n",
       "      <th>4</th>\n",
       "      <td>Territories</td>\n",
       "      <td>15.38</td>\n",
       "      <td>11.20</td>\n",
       "    </tr>\n",
       "  </tbody>\n",
       "</table>\n",
       "</div>"
      ],
      "text/plain": [
       "        region  no_checkup_trans  no_checkup_cis\n",
       "0         West             15.42           12.71\n",
       "1    Northeast             10.81            6.91\n",
       "2        South             11.76            8.97\n",
       "3      Midwest             13.89            9.94\n",
       "4  Territories             15.38           11.20"
      ]
     },
     "execution_count": 54,
     "metadata": {},
     "output_type": "execute_result"
    }
   ],
   "source": [
    "checkup_region"
   ]
  },
  {
   "cell_type": "code",
   "execution_count": 55,
   "metadata": {},
   "outputs": [],
   "source": [
    "checkup_region.to_csv('../data/checkup.csv',index=False)"
   ]
  },
  {
   "cell_type": "code",
   "execution_count": 56,
   "metadata": {},
   "outputs": [
    {
     "data": {
      "text/plain": [
       "South          345\n",
       "West           255\n",
       "Midwest        180\n",
       "Northeast      149\n",
       "Territories     26\n",
       "Name: region, dtype: int64"
      ]
     },
     "execution_count": 56,
     "metadata": {},
     "output_type": "execute_result"
    }
   ],
   "source": [
    "cdc_trans.region.value_counts()"
   ]
  },
  {
   "cell_type": "code",
   "execution_count": 57,
   "metadata": {},
   "outputs": [],
   "source": [
    "cdc_ne = cdc_trans.loc[cdc.region.isin(['Northeast'])]\n",
    "cdc_ne_poor = cdc_ne.loc[cdc_ne.poor_gen_health == 'Yes']"
   ]
  },
  {
   "cell_type": "code",
   "execution_count": 58,
   "metadata": {},
   "outputs": [
    {
     "data": {
      "text/plain": [
       "(13, 39)"
      ]
     },
     "execution_count": 58,
     "metadata": {},
     "output_type": "execute_result"
    }
   ],
   "source": [
    "cdc_ne_poor.shape"
   ]
  },
  {
   "cell_type": "code",
   "execution_count": null,
   "metadata": {},
   "outputs": [],
   "source": []
  }
 ],
 "metadata": {
  "kernelspec": {
   "display_name": "Python 3",
   "language": "python",
   "name": "python3"
  },
  "language_info": {
   "codemirror_mode": {
    "name": "ipython",
    "version": 3
   },
   "file_extension": ".py",
   "mimetype": "text/x-python",
   "name": "python",
   "nbconvert_exporter": "python",
   "pygments_lexer": "ipython3",
   "version": "3.8.5"
  }
 },
 "nbformat": 4,
 "nbformat_minor": 4
}
